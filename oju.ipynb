{
 "cells": [
  {
   "attachments": {},
   "cell_type": "markdown",
   "metadata": {},
   "source": []
  },
  {
   "attachments": {},
   "cell_type": "markdown",
   "metadata": {},
   "source": [
    "PROJECT OVERVIEW."
   ]
  },
  {
   "attachments": {},
   "cell_type": "markdown",
   "metadata": {},
   "source": [
    "Flu (influenza) is an infection of the nose, throat and lungs, which are part of the respiratory system and The H1N1 flu, sometimes called swine flu, is a type of influenza A virus. During the 2009-10 flu season, a new H1N1 virus began causing illness in humans. It was often called swine flu and was a new combination of influenza viruses that infect pigs, birds and humans.\n",
    " My task is to build a model that can use the patient health and demographics data collected following the 2009 H1N1 virus outbreak to predict which patients were not likely to get the seasonal flu vaccine.The priority will be  specificity which is a measure of how well a model correctly identifies the TRUE NEGATIVES(non-administered cases) out of all the actual negatives in the dataset. It also indicates the ability of the model to avoid FALSE POSITIVES (classifying non-administered cases as administered)."
   ]
  },
  {
   "attachments": {},
   "cell_type": "markdown",
   "metadata": {},
   "source": [
    "PROBLEM STATEMENT."
   ]
  },
  {
   "attachments": {},
   "cell_type": "markdown",
   "metadata": {},
   "source": [
    "As requested by our stakeholders, the Centers for Disease Control and Prevention (CDC) and the World Health Organization (WHO), I have undertaken an analysis aimed at improving the vaccination rate among individuals who did not receive the seasonal flu vaccine because however it does not necessarily prevent the h1n1 the seasonal flu_vaccine provides protection against other strains of the flu virus that can cause illness and complications in the future.\n",
    "\n",
    "\n",
    " The objective is to analyze patient health and demographic data collected during the vaccination campaign to gain insights into the factors contributing to low vaccination rates within this specific group. By identifying these factors, I can develop effective strategies to address them and ultimately increase the vaccination rate among the target population."
   ]
  },
  {
   "attachments": {},
   "cell_type": "markdown",
   "metadata": {},
   "source": [
    "Determining the Project success criteria:\n",
    "\n",
    "\n",
    "We are going to use the following algorithms to come up with our predictive models:\n",
    "\n",
    "\n",
    "Random forest Classifier\n",
    "\n",
    "\n",
    "Decison Tree\n",
    "\n",
    "\n",
    "k-nearest neighbors (k-NN)\n",
    "\n",
    "Gradient Boosting\n",
    "\n",
    "\n",
    "The success metrics for the mentioned algorithms are:\n",
    "\n",
    "\n",
    "Accuracy score of above 65%\n",
    "\n",
    "\n",
    "Specificity\n",
    "\n",
    "\n",
    "Confusion box\n",
    "\n"
   ]
  },
  {
   "attachments": {},
   "cell_type": "markdown",
   "metadata": {},
   "source": [
    "DATA UNDERSTANDING."
   ]
  },
  {
   "attachments": {},
   "cell_type": "markdown",
   "metadata": {},
   "source": [
    "To build a model I used The National 2009 H1N1 Flu Survey data https://www.drivendata.org/competitions/66/flu-shot-learning/. This survey was conducted in the United States during the H1N1 influenza pandemic in 2009. It aimed to gather data on the prevalence of H1N1 influenza infection, vaccine uptake, and public attitudes and behaviors related to the pandemic.The survey was conducted by the U.S. Centers for Disease Control and Prevention (CDC) in collaboration with other public health agencies and organizations. It involved interviews with a representative sample of individuals across the country to gather information about their experiences and behaviors during the H1N1 flu outbreak."
   ]
  },
  {
   "attachments": {},
   "cell_type": "markdown",
   "metadata": {},
   "source": [
    "IMPORTING MODULES."
   ]
  },
  {
   "cell_type": "code",
   "execution_count": 146,
   "metadata": {},
   "outputs": [],
   "source": [
    "# Import packages\n",
    "import numpy as np\n",
    "import pandas as pd\n",
    "import matplotlib.pyplot as plt\n",
    "import seaborn as sns\n",
    "import statsmodels.api as sm\n",
    "from sklearn.metrics import *\n",
    "from sklearn.preprocessing import OneHotEncoder, StandardScaler\n",
    "from sklearn.feature_selection import SelectKBest, chi2\n",
    "from sklearn.model_selection import train_test_split\n",
    "from imblearn.over_sampling import SMOTE\n",
    "from sklearn.linear_model import LinearRegression\n",
    "from sklearn.tree import DecisionTreeClassifier, plot_tree, export_graphviz\n",
    "from sklearn.linear_model import LogisticRegression\n",
    "from sklearn.model_selection import cross_val_score\n",
    "from sklearn.model_selection import GridSearchCV\n",
    "from sklearn.metrics import accuracy_score, precision_score\n",
    "from sklearn import tree\n",
    "from sklearn.ensemble import RandomForestClassifier\n",
    "from sklearn.neighbors import KNeighborsClassifier\n",
    "from sklearn.ensemble import GradientBoostingClassifier"
   ]
  },
  {
   "attachments": {},
   "cell_type": "markdown",
   "metadata": {},
   "source": [
    "IMPORTING DATA."
   ]
  },
  {
   "cell_type": "code",
   "execution_count": 147,
   "metadata": {},
   "outputs": [],
   "source": [
    "# Loading and reading the data from csv files.\n",
    "df = pd.read_csv('training_set_features.csv')\n",
    "target = pd.read_csv('training_set_labels.csv')"
   ]
  },
  {
   "cell_type": "code",
   "execution_count": 148,
   "metadata": {},
   "outputs": [
    {
     "data": {
      "text/html": [
       "<div>\n",
       "<style scoped>\n",
       "    .dataframe tbody tr th:only-of-type {\n",
       "        vertical-align: middle;\n",
       "    }\n",
       "\n",
       "    .dataframe tbody tr th {\n",
       "        vertical-align: top;\n",
       "    }\n",
       "\n",
       "    .dataframe thead th {\n",
       "        text-align: right;\n",
       "    }\n",
       "</style>\n",
       "<table border=\"1\" class=\"dataframe\">\n",
       "  <thead>\n",
       "    <tr style=\"text-align: right;\">\n",
       "      <th></th>\n",
       "      <th>respondent_id</th>\n",
       "      <th>h1n1_concern</th>\n",
       "      <th>h1n1_knowledge</th>\n",
       "      <th>behavioral_antiviral_meds</th>\n",
       "      <th>behavioral_avoidance</th>\n",
       "      <th>behavioral_face_mask</th>\n",
       "      <th>behavioral_wash_hands</th>\n",
       "      <th>behavioral_large_gatherings</th>\n",
       "      <th>behavioral_outside_home</th>\n",
       "      <th>behavioral_touch_face</th>\n",
       "      <th>...</th>\n",
       "      <th>income_poverty</th>\n",
       "      <th>marital_status</th>\n",
       "      <th>rent_or_own</th>\n",
       "      <th>employment_status</th>\n",
       "      <th>hhs_geo_region</th>\n",
       "      <th>census_msa</th>\n",
       "      <th>household_adults</th>\n",
       "      <th>household_children</th>\n",
       "      <th>employment_industry</th>\n",
       "      <th>employment_occupation</th>\n",
       "    </tr>\n",
       "  </thead>\n",
       "  <tbody>\n",
       "    <tr>\n",
       "      <th>0</th>\n",
       "      <td>0</td>\n",
       "      <td>1.0</td>\n",
       "      <td>0.0</td>\n",
       "      <td>0.0</td>\n",
       "      <td>0.0</td>\n",
       "      <td>0.0</td>\n",
       "      <td>0.0</td>\n",
       "      <td>0.0</td>\n",
       "      <td>1.0</td>\n",
       "      <td>1.0</td>\n",
       "      <td>...</td>\n",
       "      <td>Below Poverty</td>\n",
       "      <td>Not Married</td>\n",
       "      <td>Own</td>\n",
       "      <td>Not in Labor Force</td>\n",
       "      <td>oxchjgsf</td>\n",
       "      <td>Non-MSA</td>\n",
       "      <td>0.0</td>\n",
       "      <td>0.0</td>\n",
       "      <td>NaN</td>\n",
       "      <td>NaN</td>\n",
       "    </tr>\n",
       "    <tr>\n",
       "      <th>1</th>\n",
       "      <td>1</td>\n",
       "      <td>3.0</td>\n",
       "      <td>2.0</td>\n",
       "      <td>0.0</td>\n",
       "      <td>1.0</td>\n",
       "      <td>0.0</td>\n",
       "      <td>1.0</td>\n",
       "      <td>0.0</td>\n",
       "      <td>1.0</td>\n",
       "      <td>1.0</td>\n",
       "      <td>...</td>\n",
       "      <td>Below Poverty</td>\n",
       "      <td>Not Married</td>\n",
       "      <td>Rent</td>\n",
       "      <td>Employed</td>\n",
       "      <td>bhuqouqj</td>\n",
       "      <td>MSA, Not Principle  City</td>\n",
       "      <td>0.0</td>\n",
       "      <td>0.0</td>\n",
       "      <td>pxcmvdjn</td>\n",
       "      <td>xgwztkwe</td>\n",
       "    </tr>\n",
       "    <tr>\n",
       "      <th>2</th>\n",
       "      <td>2</td>\n",
       "      <td>1.0</td>\n",
       "      <td>1.0</td>\n",
       "      <td>0.0</td>\n",
       "      <td>1.0</td>\n",
       "      <td>0.0</td>\n",
       "      <td>0.0</td>\n",
       "      <td>0.0</td>\n",
       "      <td>0.0</td>\n",
       "      <td>0.0</td>\n",
       "      <td>...</td>\n",
       "      <td>&lt;= $75,000, Above Poverty</td>\n",
       "      <td>Not Married</td>\n",
       "      <td>Own</td>\n",
       "      <td>Employed</td>\n",
       "      <td>qufhixun</td>\n",
       "      <td>MSA, Not Principle  City</td>\n",
       "      <td>2.0</td>\n",
       "      <td>0.0</td>\n",
       "      <td>rucpziij</td>\n",
       "      <td>xtkaffoo</td>\n",
       "    </tr>\n",
       "    <tr>\n",
       "      <th>3</th>\n",
       "      <td>3</td>\n",
       "      <td>1.0</td>\n",
       "      <td>1.0</td>\n",
       "      <td>0.0</td>\n",
       "      <td>1.0</td>\n",
       "      <td>0.0</td>\n",
       "      <td>1.0</td>\n",
       "      <td>1.0</td>\n",
       "      <td>0.0</td>\n",
       "      <td>0.0</td>\n",
       "      <td>...</td>\n",
       "      <td>Below Poverty</td>\n",
       "      <td>Not Married</td>\n",
       "      <td>Rent</td>\n",
       "      <td>Not in Labor Force</td>\n",
       "      <td>lrircsnp</td>\n",
       "      <td>MSA, Principle City</td>\n",
       "      <td>0.0</td>\n",
       "      <td>0.0</td>\n",
       "      <td>NaN</td>\n",
       "      <td>NaN</td>\n",
       "    </tr>\n",
       "    <tr>\n",
       "      <th>4</th>\n",
       "      <td>4</td>\n",
       "      <td>2.0</td>\n",
       "      <td>1.0</td>\n",
       "      <td>0.0</td>\n",
       "      <td>1.0</td>\n",
       "      <td>0.0</td>\n",
       "      <td>1.0</td>\n",
       "      <td>1.0</td>\n",
       "      <td>0.0</td>\n",
       "      <td>1.0</td>\n",
       "      <td>...</td>\n",
       "      <td>&lt;= $75,000, Above Poverty</td>\n",
       "      <td>Married</td>\n",
       "      <td>Own</td>\n",
       "      <td>Employed</td>\n",
       "      <td>qufhixun</td>\n",
       "      <td>MSA, Not Principle  City</td>\n",
       "      <td>1.0</td>\n",
       "      <td>0.0</td>\n",
       "      <td>wxleyezf</td>\n",
       "      <td>emcorrxb</td>\n",
       "    </tr>\n",
       "  </tbody>\n",
       "</table>\n",
       "<p>5 rows × 36 columns</p>\n",
       "</div>"
      ],
      "text/plain": [
       "   respondent_id  h1n1_concern  h1n1_knowledge  behavioral_antiviral_meds  \\\n",
       "0              0           1.0             0.0                        0.0   \n",
       "1              1           3.0             2.0                        0.0   \n",
       "2              2           1.0             1.0                        0.0   \n",
       "3              3           1.0             1.0                        0.0   \n",
       "4              4           2.0             1.0                        0.0   \n",
       "\n",
       "   behavioral_avoidance  behavioral_face_mask  behavioral_wash_hands  \\\n",
       "0                   0.0                   0.0                    0.0   \n",
       "1                   1.0                   0.0                    1.0   \n",
       "2                   1.0                   0.0                    0.0   \n",
       "3                   1.0                   0.0                    1.0   \n",
       "4                   1.0                   0.0                    1.0   \n",
       "\n",
       "   behavioral_large_gatherings  behavioral_outside_home  \\\n",
       "0                          0.0                      1.0   \n",
       "1                          0.0                      1.0   \n",
       "2                          0.0                      0.0   \n",
       "3                          1.0                      0.0   \n",
       "4                          1.0                      0.0   \n",
       "\n",
       "   behavioral_touch_face  ...             income_poverty  marital_status  \\\n",
       "0                    1.0  ...              Below Poverty     Not Married   \n",
       "1                    1.0  ...              Below Poverty     Not Married   \n",
       "2                    0.0  ...  <= $75,000, Above Poverty     Not Married   \n",
       "3                    0.0  ...              Below Poverty     Not Married   \n",
       "4                    1.0  ...  <= $75,000, Above Poverty         Married   \n",
       "\n",
       "   rent_or_own   employment_status  hhs_geo_region                census_msa  \\\n",
       "0          Own  Not in Labor Force        oxchjgsf                   Non-MSA   \n",
       "1         Rent            Employed        bhuqouqj  MSA, Not Principle  City   \n",
       "2          Own            Employed        qufhixun  MSA, Not Principle  City   \n",
       "3         Rent  Not in Labor Force        lrircsnp       MSA, Principle City   \n",
       "4          Own            Employed        qufhixun  MSA, Not Principle  City   \n",
       "\n",
       "   household_adults  household_children  employment_industry  \\\n",
       "0               0.0                 0.0                  NaN   \n",
       "1               0.0                 0.0             pxcmvdjn   \n",
       "2               2.0                 0.0             rucpziij   \n",
       "3               0.0                 0.0                  NaN   \n",
       "4               1.0                 0.0             wxleyezf   \n",
       "\n",
       "   employment_occupation  \n",
       "0                    NaN  \n",
       "1               xgwztkwe  \n",
       "2               xtkaffoo  \n",
       "3                    NaN  \n",
       "4               emcorrxb  \n",
       "\n",
       "[5 rows x 36 columns]"
      ]
     },
     "execution_count": 148,
     "metadata": {},
     "output_type": "execute_result"
    }
   ],
   "source": [
    "df.head()"
   ]
  },
  {
   "cell_type": "code",
   "execution_count": 149,
   "metadata": {},
   "outputs": [
    {
     "data": {
      "text/html": [
       "<div>\n",
       "<style scoped>\n",
       "    .dataframe tbody tr th:only-of-type {\n",
       "        vertical-align: middle;\n",
       "    }\n",
       "\n",
       "    .dataframe tbody tr th {\n",
       "        vertical-align: top;\n",
       "    }\n",
       "\n",
       "    .dataframe thead th {\n",
       "        text-align: right;\n",
       "    }\n",
       "</style>\n",
       "<table border=\"1\" class=\"dataframe\">\n",
       "  <thead>\n",
       "    <tr style=\"text-align: right;\">\n",
       "      <th></th>\n",
       "      <th>respondent_id</th>\n",
       "      <th>h1n1_vaccine</th>\n",
       "      <th>seasonal_vaccine</th>\n",
       "    </tr>\n",
       "  </thead>\n",
       "  <tbody>\n",
       "    <tr>\n",
       "      <th>0</th>\n",
       "      <td>0</td>\n",
       "      <td>0</td>\n",
       "      <td>0</td>\n",
       "    </tr>\n",
       "    <tr>\n",
       "      <th>1</th>\n",
       "      <td>1</td>\n",
       "      <td>0</td>\n",
       "      <td>1</td>\n",
       "    </tr>\n",
       "    <tr>\n",
       "      <th>2</th>\n",
       "      <td>2</td>\n",
       "      <td>0</td>\n",
       "      <td>0</td>\n",
       "    </tr>\n",
       "    <tr>\n",
       "      <th>3</th>\n",
       "      <td>3</td>\n",
       "      <td>0</td>\n",
       "      <td>1</td>\n",
       "    </tr>\n",
       "    <tr>\n",
       "      <th>4</th>\n",
       "      <td>4</td>\n",
       "      <td>0</td>\n",
       "      <td>0</td>\n",
       "    </tr>\n",
       "  </tbody>\n",
       "</table>\n",
       "</div>"
      ],
      "text/plain": [
       "   respondent_id  h1n1_vaccine  seasonal_vaccine\n",
       "0              0             0                 0\n",
       "1              1             0                 1\n",
       "2              2             0                 0\n",
       "3              3             0                 1\n",
       "4              4             0                 0"
      ]
     },
     "execution_count": 149,
     "metadata": {},
     "output_type": "execute_result"
    }
   ],
   "source": [
    "target.head()"
   ]
  },
  {
   "attachments": {},
   "cell_type": "markdown",
   "metadata": {},
   "source": [
    "This target out above put basically represent  A binary variable indicating whether the respondent received the seasonal vaccine and h1n1 vaccine. A value of 0 typically indicates that the respondent did not receive the seasonal vaccine, while a value of 1 indicates that the respondent received the vaccine."
   ]
  },
  {
   "cell_type": "code",
   "execution_count": 150,
   "metadata": {},
   "outputs": [
    {
     "name": "stdout",
     "output_type": "stream",
     "text": [
      "<class 'pandas.core.frame.DataFrame'>\n",
      "RangeIndex: 26707 entries, 0 to 26706\n",
      "Data columns (total 36 columns):\n",
      " #   Column                       Non-Null Count  Dtype  \n",
      "---  ------                       --------------  -----  \n",
      " 0   respondent_id                26707 non-null  int64  \n",
      " 1   h1n1_concern                 26615 non-null  float64\n",
      " 2   h1n1_knowledge               26591 non-null  float64\n",
      " 3   behavioral_antiviral_meds    26636 non-null  float64\n",
      " 4   behavioral_avoidance         26499 non-null  float64\n",
      " 5   behavioral_face_mask         26688 non-null  float64\n",
      " 6   behavioral_wash_hands        26665 non-null  float64\n",
      " 7   behavioral_large_gatherings  26620 non-null  float64\n",
      " 8   behavioral_outside_home      26625 non-null  float64\n",
      " 9   behavioral_touch_face        26579 non-null  float64\n",
      " 10  doctor_recc_h1n1             24547 non-null  float64\n",
      " 11  doctor_recc_seasonal         24547 non-null  float64\n",
      " 12  chronic_med_condition        25736 non-null  float64\n",
      " 13  child_under_6_months         25887 non-null  float64\n",
      " 14  health_worker                25903 non-null  float64\n",
      " 15  health_insurance             14433 non-null  float64\n",
      " 16  opinion_h1n1_vacc_effective  26316 non-null  float64\n",
      " 17  opinion_h1n1_risk            26319 non-null  float64\n",
      " 18  opinion_h1n1_sick_from_vacc  26312 non-null  float64\n",
      " 19  opinion_seas_vacc_effective  26245 non-null  float64\n",
      " 20  opinion_seas_risk            26193 non-null  float64\n",
      " 21  opinion_seas_sick_from_vacc  26170 non-null  float64\n",
      " 22  age_group                    26707 non-null  object \n",
      " 23  education                    25300 non-null  object \n",
      " 24  race                         26707 non-null  object \n",
      " 25  sex                          26707 non-null  object \n",
      " 26  income_poverty               22284 non-null  object \n",
      " 27  marital_status               25299 non-null  object \n",
      " 28  rent_or_own                  24665 non-null  object \n",
      " 29  employment_status            25244 non-null  object \n",
      " 30  hhs_geo_region               26707 non-null  object \n",
      " 31  census_msa                   26707 non-null  object \n",
      " 32  household_adults             26458 non-null  float64\n",
      " 33  household_children           26458 non-null  float64\n",
      " 34  employment_industry          13377 non-null  object \n",
      " 35  employment_occupation        13237 non-null  object \n",
      "dtypes: float64(23), int64(1), object(12)\n",
      "memory usage: 7.3+ MB\n"
     ]
    }
   ],
   "source": [
    "df.info()"
   ]
  },
  {
   "cell_type": "code",
   "execution_count": 151,
   "metadata": {},
   "outputs": [
    {
     "name": "stdout",
     "output_type": "stream",
     "text": [
      "<class 'pandas.core.frame.DataFrame'>\n",
      "RangeIndex: 26707 entries, 0 to 26706\n",
      "Data columns (total 3 columns):\n",
      " #   Column            Non-Null Count  Dtype\n",
      "---  ------            --------------  -----\n",
      " 0   respondent_id     26707 non-null  int64\n",
      " 1   h1n1_vaccine      26707 non-null  int64\n",
      " 2   seasonal_vaccine  26707 non-null  int64\n",
      "dtypes: int64(3)\n",
      "memory usage: 626.1 KB\n"
     ]
    }
   ],
   "source": [
    "target.info()"
   ]
  },
  {
   "attachments": {},
   "cell_type": "markdown",
   "metadata": {},
   "source": [
    "-  Both of our data frames have the same amount of of entries at 26,707 which appear in (Floats,Integers and Objects in the training_set_features while Integers in training_set_labels ) and they both have the common feature of 'respondent_id'. We can see that the Training Data has 35 feature columns and each of them are a response to a survey question. The survey questions cover a variety of topics such as opinion, behaviors, and their demographics. The training_set_labels correspond to the training_set_features and focus on the two targets variables, H1N1 and seasonal vaccines. These are binary variables with 1 indicating that a person received the vaccine and 0 indicating that a person did not receive the vaccine.\n",
    "\n",
    "- Features column descriptions from DrivenData:\n",
    "    - respondent_id: A unique and random identifier.\n",
    "    - h1n1_concern: Level of concern of h1n1 virus.\n",
    "    - h1n1_knowledge: Level of H1N1 virus knowledge.\n",
    "    - behavioral_antiviral_meds: Behavioral Indicator- Taking anti-viral medication.\n",
    "    - behavioral_avoidance: Behavioral Indicator- Avoid close contact with others with flulike symptoms.\n",
    "    - behavioral_face_mask: Behavioral Indicator- Bought a face mask.\n",
    "    - behavioral_wash_hands: Behavioral Indicator- Washing hands.\n",
    "    - behavioral_large_gatherings: Behavioral Indicator- Reduced time at large gatherings.\n",
    "    - behavioral_outside_home: Behavioral Indicator- Reduced contact outside the home.\n",
    "    - behavioral_touch_face: Behavioral Indicator- Avoid touching eyes, nose, or mouth.\n",
    "    - doctor_recc_h1n1: H1N1 flu vaccine was recommended by doctor. (binary)\n",
    "    - doctor_recc_seasonal: Seasonal flu vaccine was recommended by doctor. (binary)\n",
    "    - chronic_med_condition: Has any of the following chronic medical conditions: asthma or an other lung condition, diabetes, a heart condition, a kidney condition, sickle cell anemia or other anemia, a neurological or neuromuscular condition, a liver condition, or a weakened immune system caused by a chronic illness or by medicines taken for a chronic illness. (binary)\n",
    "    - child_under_6_months: Close contact with child under 6 months of age.\n",
    "    - health_worker: Is a healthcare worker. (binary)\n",
    "    - health_insurance: Has health insurance. (binary)\n",
    "    - opinion_h1n1_vacc_effective: Opinion- Effectiveness of H1N1 vaccine.\n",
    "    - opinion_h1n1_risk: Opinion- Risk of getting sick with H1N1 flu without vaccine.\n",
    "    - opinion_h1n1_sick_from_vacc: Opinion- Worry about getting sick from the H1N1 vaccine.\n",
    "    - opinion_seas_vacc_effective: Opinion- Effectiveness of seasonal vaccine.\n",
    "    - opinion_seas_risk: Opinion- Risk of getting sick with the seasonal flu without vaccine.\n",
    "    - opinion_seas_sick_from_vacc: Opinion- Worry about getting sick from the seasonal vaccine.\n",
    "    - age_group: Age group of respondent.\n",
    "    - education: Adult self-reported education level.\n",
    "    - race: Race of respondent.\n",
    "    - sex: Sex of respondent.\n",
    "    - income_poverty: Poverty status of household.\n",
    "    - marital_status: Marital status of respondent.\n",
    "    - employment_status: Employment status of respondent.\n",
    "    - hhs_geo_region: Respondent's residence using a 10-region geographic classification defined by the U.S. Dept. of Health and Human Services. Values are represented as short random character strings.\n",
    "    - census_msa: Respondent's residence within metropolitan statistical areas (MSA) as defined by the U.S. Census.\n",
    "    - household_adults: Number of adults in the houshold (other than respondent).\n",
    "    - household_children: Number of children in the houshold.\n",
    "    - employment_industry: Type of industry respondent is employed in. (values are represented as short random character strings)\n",
    "    - employment_occupation: Type of occupation of respondent. Values are represented as short random character strings."
   ]
  },
  {
   "attachments": {},
   "cell_type": "markdown",
   "metadata": {},
   "source": [
    "DATA PREPARATION AND CLEANING."
   ]
  },
  {
   "cell_type": "code",
   "execution_count": 152,
   "metadata": {},
   "outputs": [
    {
     "data": {
      "text/plain": [
       "0"
      ]
     },
     "execution_count": 152,
     "metadata": {},
     "output_type": "execute_result"
    }
   ],
   "source": [
    "# checking for duplicated values\n",
    "df.duplicated().sum()"
   ]
  },
  {
   "cell_type": "code",
   "execution_count": 153,
   "metadata": {},
   "outputs": [
    {
     "data": {
      "text/plain": [
       "0"
      ]
     },
     "execution_count": 153,
     "metadata": {},
     "output_type": "execute_result"
    }
   ],
   "source": [
    "# checking for duplicated values\n",
    "target.duplicated().sum()"
   ]
  },
  {
   "cell_type": "code",
   "execution_count": 154,
   "metadata": {},
   "outputs": [
    {
     "name": "stdout",
     "output_type": "stream",
     "text": [
      "Null value counts:\n",
      " respondent_id                      0\n",
      "h1n1_concern                      92\n",
      "h1n1_knowledge                   116\n",
      "behavioral_antiviral_meds         71\n",
      "behavioral_avoidance             208\n",
      "behavioral_face_mask              19\n",
      "behavioral_wash_hands             42\n",
      "behavioral_large_gatherings       87\n",
      "behavioral_outside_home           82\n",
      "behavioral_touch_face            128\n",
      "doctor_recc_h1n1                2160\n",
      "doctor_recc_seasonal            2160\n",
      "chronic_med_condition            971\n",
      "child_under_6_months             820\n",
      "health_worker                    804\n",
      "health_insurance               12274\n",
      "opinion_h1n1_vacc_effective      391\n",
      "opinion_h1n1_risk                388\n",
      "opinion_h1n1_sick_from_vacc      395\n",
      "opinion_seas_vacc_effective      462\n",
      "opinion_seas_risk                514\n",
      "opinion_seas_sick_from_vacc      537\n",
      "age_group                          0\n",
      "education                       1407\n",
      "race                               0\n",
      "sex                                0\n",
      "income_poverty                  4423\n",
      "marital_status                  1408\n",
      "rent_or_own                     2042\n",
      "employment_status               1463\n",
      "hhs_geo_region                     0\n",
      "census_msa                         0\n",
      "household_adults                 249\n",
      "household_children               249\n",
      "employment_industry            13330\n",
      "employment_occupation          13470\n",
      "dtype: int64\n"
     ]
    }
   ],
   "source": [
    "#checking null values in our dataframe\n",
    "null_counts = df.isnull().sum()\n",
    "print(\"Null value counts:\\n\", null_counts)"
   ]
  },
  {
   "attachments": {},
   "cell_type": "markdown",
   "metadata": {},
   "source": [
    "REMOVING NULL VALUES."
   ]
  },
  {
   "cell_type": "code",
   "execution_count": 155,
   "metadata": {},
   "outputs": [],
   "source": [
    "# Removing rows with null values\n",
    "df = df.dropna()\n",
    "\n",
    "# Removing columns with null values\n",
    "df = df.dropna(axis=1)"
   ]
  },
  {
   "cell_type": "code",
   "execution_count": 156,
   "metadata": {},
   "outputs": [
    {
     "data": {
      "text/plain": [
       "(6437, 36)"
      ]
     },
     "execution_count": 156,
     "metadata": {},
     "output_type": "execute_result"
    }
   ],
   "source": [
    "#finding the number of rows and columns remaining\n",
    "df.shape"
   ]
  },
  {
   "cell_type": "code",
   "execution_count": 157,
   "metadata": {},
   "outputs": [
    {
     "name": "stdout",
     "output_type": "stream",
     "text": [
      "Null value counts:\n",
      " respondent_id       0\n",
      "h1n1_vaccine        0\n",
      "seasonal_vaccine    0\n",
      "dtype: int64\n"
     ]
    }
   ],
   "source": [
    "#Checking null values in our target.\n",
    "null_counts = target.isnull().sum()\n",
    "print(\"Null value counts:\\n\", null_counts)"
   ]
  },
  {
   "attachments": {},
   "cell_type": "markdown",
   "metadata": {},
   "source": [
    "Calculate the percentage breakdown of the h1n1 and seasonal distribution."
   ]
  },
  {
   "cell_type": "code",
   "execution_count": 158,
   "metadata": {},
   "outputs": [
    {
     "data": {
      "text/plain": [
       "0    0.534392\n",
       "1    0.465608\n",
       "Name: seasonal_vaccine, dtype: float64"
      ]
     },
     "execution_count": 158,
     "metadata": {},
     "output_type": "execute_result"
    }
   ],
   "source": [
    "# Check to see the percentage breakdown of the distribution.\n",
    "target['seasonal_vaccine'].value_counts(normalize=True)\n"
   ]
  },
  {
   "attachments": {},
   "cell_type": "markdown",
   "metadata": {},
   "source": [
    "the visualisation for better vision of the diatribution."
   ]
  },
  {
   "cell_type": "code",
   "execution_count": 159,
   "metadata": {},
   "outputs": [
    {
     "data": {
      "image/png": "[encoded data removed]",
      "text/plain": [
       "<Figure size 432x432 with 1 Axes>"
      ]
     },
     "metadata": {},
     "output_type": "display_data"
    }
   ],
   "source": [
    "\n",
    "# Percentages for seasonal vaccine target variable\n",
    "seasonal_percentages = target['seasonal_vaccine'].value_counts(normalize=True) * 100\n",
    "\n",
    "# Create a pie chart\n",
    "plt.figure(figsize=(6, 6))\n",
    "plt.pie(seasonal_percentages, labels=seasonal_percentages.index, autopct='%1.1f%%', startangle=90)\n",
    "plt.title('Distribution of Seasonal Vaccine')\n",
    "plt.legend(title='seasonal_vaccine', loc='best')\n",
    "plt.axis('equal')\n",
    "plt.show()\n"
   ]
  },
  {
   "cell_type": "code",
   "execution_count": 160,
   "metadata": {},
   "outputs": [
    {
     "data": {
      "text/plain": [
       "0    0.787546\n",
       "1    0.212454\n",
       "Name: h1n1_vaccine, dtype: float64"
      ]
     },
     "execution_count": 160,
     "metadata": {},
     "output_type": "execute_result"
    }
   ],
   "source": [
    "target['h1n1_vaccine'].value_counts(normalize=True)"
   ]
  },
  {
   "attachments": {},
   "cell_type": "markdown",
   "metadata": {},
   "source": [
    "pie chart visualisation of the h1n1_vaccine distribution"
   ]
  },
  {
   "cell_type": "code",
   "execution_count": 161,
   "metadata": {},
   "outputs": [
    {
     "data": {
      "image/png": "[encoded data removed]",
      "text/plain": [
       "<Figure size 432x432 with 1 Axes>"
      ]
     },
     "metadata": {},
     "output_type": "display_data"
    }
   ],
   "source": [
    "\n",
    "# Percentages for h1n1 vaccine target variable\n",
    "h1n1_percentages = target['h1n1_vaccine'].value_counts(normalize=True) * 100\n",
    "\n",
    "# Create a pie chart for h1n1 vaccine\n",
    "plt.figure(figsize=(6, 6))\n",
    "plt.pie(h1n1_percentages, labels=h1n1_percentages.index, autopct='%1.1f%%', startangle=90)\n",
    "plt.title('Distribution of H1N1 Vaccine')\n",
    "plt.axis('equal')\n",
    "plt.legend(title='H1N1 Vaccine', loc='best')\n",
    "plt.show()\n"
   ]
  },
  {
   "attachments": {},
   "cell_type": "markdown",
   "metadata": {},
   "source": [
    "Our primary Dataset for the study the seasonal_vaccine seems to be more balanced than the h1n1_vaccine."
   ]
  },
  {
   "attachments": {},
   "cell_type": "markdown",
   "metadata": {},
   "source": [
    "Merge my target to my df and target common using the column respondent_id to dissect it further as one."
   ]
  },
  {
   "cell_type": "code",
   "execution_count": 162,
   "metadata": {},
   "outputs": [],
   "source": [
    "# Merge the df and target together to form the new df.\n",
    "df = df.join(target.set_index('respondent_id'), on='respondent_id')"
   ]
  },
  {
   "cell_type": "code",
   "execution_count": 163,
   "metadata": {},
   "outputs": [
    {
     "data": {
      "text/html": [
       "<div>\n",
       "<style scoped>\n",
       "    .dataframe tbody tr th:only-of-type {\n",
       "        vertical-align: middle;\n",
       "    }\n",
       "\n",
       "    .dataframe tbody tr th {\n",
       "        vertical-align: top;\n",
       "    }\n",
       "\n",
       "    .dataframe thead th {\n",
       "        text-align: right;\n",
       "    }\n",
       "</style>\n",
       "<table border=\"1\" class=\"dataframe\">\n",
       "  <thead>\n",
       "    <tr style=\"text-align: right;\">\n",
       "      <th></th>\n",
       "      <th>respondent_id</th>\n",
       "      <th>h1n1_concern</th>\n",
       "      <th>h1n1_knowledge</th>\n",
       "      <th>behavioral_antiviral_meds</th>\n",
       "      <th>behavioral_avoidance</th>\n",
       "      <th>behavioral_face_mask</th>\n",
       "      <th>behavioral_wash_hands</th>\n",
       "      <th>behavioral_large_gatherings</th>\n",
       "      <th>behavioral_outside_home</th>\n",
       "      <th>behavioral_touch_face</th>\n",
       "      <th>...</th>\n",
       "      <th>rent_or_own</th>\n",
       "      <th>employment_status</th>\n",
       "      <th>hhs_geo_region</th>\n",
       "      <th>census_msa</th>\n",
       "      <th>household_adults</th>\n",
       "      <th>household_children</th>\n",
       "      <th>employment_industry</th>\n",
       "      <th>employment_occupation</th>\n",
       "      <th>h1n1_vaccine</th>\n",
       "      <th>seasonal_vaccine</th>\n",
       "    </tr>\n",
       "  </thead>\n",
       "  <tbody>\n",
       "    <tr>\n",
       "      <th>1</th>\n",
       "      <td>1</td>\n",
       "      <td>3.0</td>\n",
       "      <td>2.0</td>\n",
       "      <td>0.0</td>\n",
       "      <td>1.0</td>\n",
       "      <td>0.0</td>\n",
       "      <td>1.0</td>\n",
       "      <td>0.0</td>\n",
       "      <td>1.0</td>\n",
       "      <td>1.0</td>\n",
       "      <td>...</td>\n",
       "      <td>Rent</td>\n",
       "      <td>Employed</td>\n",
       "      <td>bhuqouqj</td>\n",
       "      <td>MSA, Not Principle  City</td>\n",
       "      <td>0.0</td>\n",
       "      <td>0.0</td>\n",
       "      <td>pxcmvdjn</td>\n",
       "      <td>xgwztkwe</td>\n",
       "      <td>0</td>\n",
       "      <td>1</td>\n",
       "    </tr>\n",
       "    <tr>\n",
       "      <th>7</th>\n",
       "      <td>7</td>\n",
       "      <td>1.0</td>\n",
       "      <td>0.0</td>\n",
       "      <td>0.0</td>\n",
       "      <td>1.0</td>\n",
       "      <td>0.0</td>\n",
       "      <td>1.0</td>\n",
       "      <td>0.0</td>\n",
       "      <td>0.0</td>\n",
       "      <td>1.0</td>\n",
       "      <td>...</td>\n",
       "      <td>Own</td>\n",
       "      <td>Employed</td>\n",
       "      <td>bhuqouqj</td>\n",
       "      <td>Non-MSA</td>\n",
       "      <td>2.0</td>\n",
       "      <td>0.0</td>\n",
       "      <td>pxcmvdjn</td>\n",
       "      <td>xqwwgdyp</td>\n",
       "      <td>1</td>\n",
       "      <td>1</td>\n",
       "    </tr>\n",
       "    <tr>\n",
       "      <th>10</th>\n",
       "      <td>10</td>\n",
       "      <td>2.0</td>\n",
       "      <td>1.0</td>\n",
       "      <td>0.0</td>\n",
       "      <td>1.0</td>\n",
       "      <td>0.0</td>\n",
       "      <td>1.0</td>\n",
       "      <td>1.0</td>\n",
       "      <td>0.0</td>\n",
       "      <td>0.0</td>\n",
       "      <td>...</td>\n",
       "      <td>Rent</td>\n",
       "      <td>Employed</td>\n",
       "      <td>lzgpxyit</td>\n",
       "      <td>MSA, Not Principle  City</td>\n",
       "      <td>2.0</td>\n",
       "      <td>0.0</td>\n",
       "      <td>xicduogh</td>\n",
       "      <td>qxajmpny</td>\n",
       "      <td>1</td>\n",
       "      <td>1</td>\n",
       "    </tr>\n",
       "    <tr>\n",
       "      <th>11</th>\n",
       "      <td>11</td>\n",
       "      <td>1.0</td>\n",
       "      <td>2.0</td>\n",
       "      <td>0.0</td>\n",
       "      <td>1.0</td>\n",
       "      <td>0.0</td>\n",
       "      <td>1.0</td>\n",
       "      <td>0.0</td>\n",
       "      <td>0.0</td>\n",
       "      <td>0.0</td>\n",
       "      <td>...</td>\n",
       "      <td>Own</td>\n",
       "      <td>Employed</td>\n",
       "      <td>oxchjgsf</td>\n",
       "      <td>Non-MSA</td>\n",
       "      <td>1.0</td>\n",
       "      <td>2.0</td>\n",
       "      <td>xicduogh</td>\n",
       "      <td>ccgxvspp</td>\n",
       "      <td>1</td>\n",
       "      <td>1</td>\n",
       "    </tr>\n",
       "    <tr>\n",
       "      <th>15</th>\n",
       "      <td>15</td>\n",
       "      <td>1.0</td>\n",
       "      <td>1.0</td>\n",
       "      <td>0.0</td>\n",
       "      <td>1.0</td>\n",
       "      <td>0.0</td>\n",
       "      <td>0.0</td>\n",
       "      <td>0.0</td>\n",
       "      <td>0.0</td>\n",
       "      <td>0.0</td>\n",
       "      <td>...</td>\n",
       "      <td>Own</td>\n",
       "      <td>Employed</td>\n",
       "      <td>lzgpxyit</td>\n",
       "      <td>MSA, Not Principle  City</td>\n",
       "      <td>1.0</td>\n",
       "      <td>3.0</td>\n",
       "      <td>wxleyezf</td>\n",
       "      <td>emcorrxb</td>\n",
       "      <td>0</td>\n",
       "      <td>0</td>\n",
       "    </tr>\n",
       "    <tr>\n",
       "      <th>17</th>\n",
       "      <td>17</td>\n",
       "      <td>1.0</td>\n",
       "      <td>1.0</td>\n",
       "      <td>0.0</td>\n",
       "      <td>0.0</td>\n",
       "      <td>0.0</td>\n",
       "      <td>1.0</td>\n",
       "      <td>1.0</td>\n",
       "      <td>0.0</td>\n",
       "      <td>1.0</td>\n",
       "      <td>...</td>\n",
       "      <td>Own</td>\n",
       "      <td>Employed</td>\n",
       "      <td>lzgpxyit</td>\n",
       "      <td>MSA, Not Principle  City</td>\n",
       "      <td>1.0</td>\n",
       "      <td>0.0</td>\n",
       "      <td>rucpziij</td>\n",
       "      <td>xtkaffoo</td>\n",
       "      <td>0</td>\n",
       "      <td>0</td>\n",
       "    </tr>\n",
       "    <tr>\n",
       "      <th>21</th>\n",
       "      <td>21</td>\n",
       "      <td>2.0</td>\n",
       "      <td>2.0</td>\n",
       "      <td>0.0</td>\n",
       "      <td>1.0</td>\n",
       "      <td>0.0</td>\n",
       "      <td>1.0</td>\n",
       "      <td>0.0</td>\n",
       "      <td>0.0</td>\n",
       "      <td>1.0</td>\n",
       "      <td>...</td>\n",
       "      <td>Own</td>\n",
       "      <td>Employed</td>\n",
       "      <td>qufhixun</td>\n",
       "      <td>MSA, Not Principle  City</td>\n",
       "      <td>1.0</td>\n",
       "      <td>0.0</td>\n",
       "      <td>ldnlellj</td>\n",
       "      <td>mxkfnird</td>\n",
       "      <td>0</td>\n",
       "      <td>1</td>\n",
       "    </tr>\n",
       "    <tr>\n",
       "      <th>22</th>\n",
       "      <td>22</td>\n",
       "      <td>1.0</td>\n",
       "      <td>1.0</td>\n",
       "      <td>0.0</td>\n",
       "      <td>1.0</td>\n",
       "      <td>0.0</td>\n",
       "      <td>1.0</td>\n",
       "      <td>0.0</td>\n",
       "      <td>0.0</td>\n",
       "      <td>1.0</td>\n",
       "      <td>...</td>\n",
       "      <td>Own</td>\n",
       "      <td>Employed</td>\n",
       "      <td>fpwskwrf</td>\n",
       "      <td>MSA, Not Principle  City</td>\n",
       "      <td>2.0</td>\n",
       "      <td>1.0</td>\n",
       "      <td>wxleyezf</td>\n",
       "      <td>emcorrxb</td>\n",
       "      <td>0</td>\n",
       "      <td>0</td>\n",
       "    </tr>\n",
       "  </tbody>\n",
       "</table>\n",
       "<p>8 rows × 38 columns</p>\n",
       "</div>"
      ],
      "text/plain": [
       "    respondent_id  h1n1_concern  h1n1_knowledge  behavioral_antiviral_meds  \\\n",
       "1               1           3.0             2.0                        0.0   \n",
       "7               7           1.0             0.0                        0.0   \n",
       "10             10           2.0             1.0                        0.0   \n",
       "11             11           1.0             2.0                        0.0   \n",
       "15             15           1.0             1.0                        0.0   \n",
       "17             17           1.0             1.0                        0.0   \n",
       "21             21           2.0             2.0                        0.0   \n",
       "22             22           1.0             1.0                        0.0   \n",
       "\n",
       "    behavioral_avoidance  behavioral_face_mask  behavioral_wash_hands  \\\n",
       "1                    1.0                   0.0                    1.0   \n",
       "7                    1.0                   0.0                    1.0   \n",
       "10                   1.0                   0.0                    1.0   \n",
       "11                   1.0                   0.0                    1.0   \n",
       "15                   1.0                   0.0                    0.0   \n",
       "17                   0.0                   0.0                    1.0   \n",
       "21                   1.0                   0.0                    1.0   \n",
       "22                   1.0                   0.0                    1.0   \n",
       "\n",
       "    behavioral_large_gatherings  behavioral_outside_home  \\\n",
       "1                           0.0                      1.0   \n",
       "7                           0.0                      0.0   \n",
       "10                          1.0                      0.0   \n",
       "11                          0.0                      0.0   \n",
       "15                          0.0                      0.0   \n",
       "17                          1.0                      0.0   \n",
       "21                          0.0                      0.0   \n",
       "22                          0.0                      0.0   \n",
       "\n",
       "    behavioral_touch_face  ...  rent_or_own  employment_status  \\\n",
       "1                     1.0  ...         Rent           Employed   \n",
       "7                     1.0  ...          Own           Employed   \n",
       "10                    0.0  ...         Rent           Employed   \n",
       "11                    0.0  ...          Own           Employed   \n",
       "15                    0.0  ...          Own           Employed   \n",
       "17                    1.0  ...          Own           Employed   \n",
       "21                    1.0  ...          Own           Employed   \n",
       "22                    1.0  ...          Own           Employed   \n",
       "\n",
       "    hhs_geo_region                census_msa  household_adults  \\\n",
       "1         bhuqouqj  MSA, Not Principle  City               0.0   \n",
       "7         bhuqouqj                   Non-MSA               2.0   \n",
       "10        lzgpxyit  MSA, Not Principle  City               2.0   \n",
       "11        oxchjgsf                   Non-MSA               1.0   \n",
       "15        lzgpxyit  MSA, Not Principle  City               1.0   \n",
       "17        lzgpxyit  MSA, Not Principle  City               1.0   \n",
       "21        qufhixun  MSA, Not Principle  City               1.0   \n",
       "22        fpwskwrf  MSA, Not Principle  City               2.0   \n",
       "\n",
       "    household_children  employment_industry  employment_occupation  \\\n",
       "1                  0.0             pxcmvdjn               xgwztkwe   \n",
       "7                  0.0             pxcmvdjn               xqwwgdyp   \n",
       "10                 0.0             xicduogh               qxajmpny   \n",
       "11                 2.0             xicduogh               ccgxvspp   \n",
       "15                 3.0             wxleyezf               emcorrxb   \n",
       "17                 0.0             rucpziij               xtkaffoo   \n",
       "21                 0.0             ldnlellj               mxkfnird   \n",
       "22                 1.0             wxleyezf               emcorrxb   \n",
       "\n",
       "    h1n1_vaccine  seasonal_vaccine  \n",
       "1              0                 1  \n",
       "7              1                 1  \n",
       "10             1                 1  \n",
       "11             1                 1  \n",
       "15             0                 0  \n",
       "17             0                 0  \n",
       "21             0                 1  \n",
       "22             0                 0  \n",
       "\n",
       "[8 rows x 38 columns]"
      ]
     },
     "execution_count": 163,
     "metadata": {},
     "output_type": "execute_result"
    }
   ],
   "source": [
    "df.head(8)"
   ]
  },
  {
   "attachments": {},
   "cell_type": "markdown",
   "metadata": {},
   "source": [
    "Look for duplicates in the merging columnn 'respondent_id'"
   ]
  },
  {
   "cell_type": "code",
   "execution_count": 164,
   "metadata": {},
   "outputs": [
    {
     "data": {
      "text/plain": [
       "0"
      ]
     },
     "execution_count": 164,
     "metadata": {},
     "output_type": "execute_result"
    }
   ],
   "source": [
    "df['respondent_id'].duplicated().sum()"
   ]
  },
  {
   "attachments": {},
   "cell_type": "markdown",
   "metadata": {},
   "source": [
    "Perform Exploratory Data Analysis\n"
   ]
  },
  {
   "attachments": {},
   "cell_type": "markdown",
   "metadata": {},
   "source": [
    "viewing the object columns for analysis."
   ]
  },
  {
   "cell_type": "code",
   "execution_count": 165,
   "metadata": {},
   "outputs": [
    {
     "name": "stdout",
     "output_type": "stream",
     "text": [
      "Values in age_group:\n",
      "['35 - 44 Years' '45 - 54 Years' '55 - 64 Years' '18 - 34 Years'\n",
      " '65+ Years']\n",
      "\n",
      "Values in education:\n",
      "['12 Years' 'Some College' 'College Graduate' '< 12 Years']\n",
      "\n",
      "Values in race:\n",
      "['White' 'Black' 'Other or Multiple' 'Hispanic']\n",
      "\n",
      "Values in sex:\n",
      "['Male' 'Female']\n",
      "\n",
      "Values in income_poverty:\n",
      "['Below Poverty' '<= $75,000, Above Poverty' '> $75,000']\n",
      "\n",
      "Values in marital_status:\n",
      "['Not Married' 'Married']\n",
      "\n",
      "Values in rent_or_own:\n",
      "['Rent' 'Own']\n",
      "\n",
      "Values in employment_status:\n",
      "['Employed']\n",
      "\n",
      "Values in hhs_geo_region:\n",
      "['bhuqouqj' 'lzgpxyit' 'oxchjgsf' 'qufhixun' 'fpwskwrf' 'mlyzmhmf'\n",
      " 'dqpwygqj' 'kbazzjca' 'atmpeygn' 'lrircsnp']\n",
      "\n",
      "Values in census_msa:\n",
      "['MSA, Not Principle  City' 'Non-MSA' 'MSA, Principle City']\n",
      "\n",
      "Values in employment_industry:\n",
      "['pxcmvdjn' 'xicduogh' 'wxleyezf' 'rucpziij' 'ldnlellj' 'fcxhlnwr'\n",
      " 'vjjrobsf' 'arjwrbjb' 'xqicxuve' 'wlfvacwt' 'phxvnwax' 'cfqqtusy'\n",
      " 'mcubkhph' 'saaquncn' 'mfikgejo' 'atmlpfrs' 'haxffmxo' 'nduyfdeo'\n",
      " 'qnlwzans' 'dotnnunm' 'msuufmds']\n",
      "\n",
      "Values in employment_occupation:\n",
      "['xgwztkwe' 'xqwwgdyp' 'qxajmpny' 'ccgxvspp' 'emcorrxb' 'xtkaffoo'\n",
      " 'mxkfnird' 'bxpfxfdn' 'cmhcxjea' 'hfxkjkmi' 'oijqvulv' 'tfqavkke'\n",
      " 'kldqjyjy' 'haliazsg' 'dlvbwzss' 'rcertsgn' 'vlluhbov' 'xzmlyyjv'\n",
      " 'dcjcmpih' 'uqqtjvyb' 'pvmttkik' 'hodpvpew' 'ukymxvdu']\n",
      "\n"
     ]
    }
   ],
   "source": [
    "string_columns = df.select_dtypes(include='object').columns.tolist()\n",
    "# Print the values of each relevant column\n",
    "for column in string_columns:\n",
    "    print(f\"Values in {column}:\")\n",
    "    print(df[column].unique())\n",
    "    print()"
   ]
  },
  {
   "attachments": {},
   "cell_type": "markdown",
   "metadata": {},
   "source": [
    "Change the columns 'employment_occupation', 'employment_industry', 'hhs_geo_region' that are in form of random unrecognisable strings to make them interpratable because they might be an integral part of my Analysis."
   ]
  },
  {
   "attachments": {},
   "cell_type": "markdown",
   "metadata": {},
   "source": [
    "Change employment_occupation column to integers."
   ]
  },
  {
   "cell_type": "code",
   "execution_count": 166,
   "metadata": {},
   "outputs": [],
   "source": [
    "# Mapping dictionary for the new values\n",
    "occupation_mapping = {'xgwztkwe': '1','xqwwgdyp': '2','qxajmpny': '3','ccgxvspp': '4','emcorrxb': '5',\n",
    "                      'xtkaffoo': '6','mxkfnird': '7','bxpfxfdn': '8','cmhcxjea': '9','hfxkjkmi': '10',\n",
    "                      'oijqvulv': '11','tfqavkke': '12','kldqjyjy': '13','haliazsg': '14','dlvbwzss': '15',\n",
    "                      'rcertsgn': '16','vlluhbov': '17','xzmlyyjv': '18','dcjcmpih': '19','uqqtjvyb': '20',\n",
    "                      'pvmttkik': '21','hodpvpew': '22','ukymxvdu': '23'}\n",
    "\n",
    "# Change the values in the \"employment_occupation\" column\n",
    "df['employment_occupation'] = df['employment_occupation'].replace(occupation_mapping)\n",
    "\n",
    "\n"
   ]
  },
  {
   "attachments": {},
   "cell_type": "markdown",
   "metadata": {},
   "source": [
    "Change employment_industry column to integers."
   ]
  },
  {
   "cell_type": "code",
   "execution_count": 167,
   "metadata": {},
   "outputs": [],
   "source": [
    "# Mapping dictionary for the new values\n",
    "industry_mapping = {'pxcmvdjn': '1','xicduogh': '2','wxleyezf': '3','rucpziij': '4','ldnlellj': '5',\n",
    "                    'fcxhlnwr': '6','vjjrobsf': '7','arjwrbjb': '8','xqicxuve': '9','wlfvacwt': '10',\n",
    "                    'phxvnwax': '11','cfqqtusy': '12','mcubkhph': '13','saaquncn': '14','mfikgejo': '15',\n",
    "                    'atmlpfrs': '16','haxffmxo': '17','nduyfdeo': '18','qnlwzans': '19','dotnnunm': '20',\n",
    "                    'msuufmds': '21'}\n",
    "\n",
    "# Change the values in the \"employment_industry\" column\n",
    "df['employment_industry'] = df['employment_industry'].replace(industry_mapping)\n"
   ]
  },
  {
   "attachments": {},
   "cell_type": "markdown",
   "metadata": {},
   "source": [
    "Change hhs_geo_region column to understandable object."
   ]
  },
  {
   "cell_type": "code",
   "execution_count": 168,
   "metadata": {},
   "outputs": [],
   "source": [
    "# Mapping dictionary for the new values\n",
    "region_mapping = {'bhuqouqj': 'region_A','lzgpxyit': 'region_B','oxchjgsf': 'region_C','qufhixun': 'region_D',\n",
    "                  'fpwskwrf': 'region_E','mlyzmhmf': 'region_F','dqpwygqj': 'region_G','kbazzjca': 'region_H',\n",
    "                  'atmpeygn': 'region_I','lrircsnp': 'region_J'}\n",
    "\n",
    "# Change the values in the \"hhs_geo_region\" column\n",
    "df['hhs_geo_region'] = df['hhs_geo_region'].replace(region_mapping)\n"
   ]
  },
  {
   "cell_type": "code",
   "execution_count": 169,
   "metadata": {},
   "outputs": [
    {
     "name": "stdout",
     "output_type": "stream",
     "text": [
      "Index(['respondent_id', 'h1n1_concern', 'h1n1_knowledge',\n",
      "       'behavioral_antiviral_meds', 'behavioral_avoidance',\n",
      "       'behavioral_face_mask', 'behavioral_wash_hands',\n",
      "       'behavioral_large_gatherings', 'behavioral_outside_home',\n",
      "       'behavioral_touch_face', 'doctor_recc_h1n1', 'doctor_recc_seasonal',\n",
      "       'chronic_med_condition', 'child_under_6_months', 'health_worker',\n",
      "       'health_insurance', 'opinion_h1n1_vacc_effective', 'opinion_h1n1_risk',\n",
      "       'opinion_h1n1_sick_from_vacc', 'opinion_seas_vacc_effective',\n",
      "       'opinion_seas_risk', 'opinion_seas_sick_from_vacc', 'age_group',\n",
      "       'education', 'race', 'sex', 'income_poverty', 'marital_status',\n",
      "       'rent_or_own', 'employment_status', 'hhs_geo_region', 'census_msa',\n",
      "       'household_adults', 'household_children', 'employment_industry',\n",
      "       'employment_occupation', 'h1n1_vaccine', 'seasonal_vaccine'],\n",
      "      dtype='object')\n"
     ]
    }
   ],
   "source": [
    "new_df = df\n",
    "print(new_df.columns)\n"
   ]
  },
  {
   "attachments": {},
   "cell_type": "markdown",
   "metadata": {},
   "source": [
    "convert floats in the DataFrame into integers."
   ]
  },
  {
   "cell_type": "code",
   "execution_count": 170,
   "metadata": {},
   "outputs": [
    {
     "data": {
      "text/html": [
       "<div>\n",
       "<style scoped>\n",
       "    .dataframe tbody tr th:only-of-type {\n",
       "        vertical-align: middle;\n",
       "    }\n",
       "\n",
       "    .dataframe tbody tr th {\n",
       "        vertical-align: top;\n",
       "    }\n",
       "\n",
       "    .dataframe thead th {\n",
       "        text-align: right;\n",
       "    }\n",
       "</style>\n",
       "<table border=\"1\" class=\"dataframe\">\n",
       "  <thead>\n",
       "    <tr style=\"text-align: right;\">\n",
       "      <th></th>\n",
       "      <th>respondent_id</th>\n",
       "      <th>h1n1_concern</th>\n",
       "      <th>h1n1_knowledge</th>\n",
       "      <th>behavioral_antiviral_meds</th>\n",
       "      <th>behavioral_avoidance</th>\n",
       "      <th>behavioral_face_mask</th>\n",
       "      <th>behavioral_wash_hands</th>\n",
       "      <th>behavioral_large_gatherings</th>\n",
       "      <th>behavioral_outside_home</th>\n",
       "      <th>behavioral_touch_face</th>\n",
       "      <th>...</th>\n",
       "      <th>rent_or_own</th>\n",
       "      <th>employment_status</th>\n",
       "      <th>hhs_geo_region</th>\n",
       "      <th>census_msa</th>\n",
       "      <th>household_adults</th>\n",
       "      <th>household_children</th>\n",
       "      <th>employment_industry</th>\n",
       "      <th>employment_occupation</th>\n",
       "      <th>h1n1_vaccine</th>\n",
       "      <th>seasonal_vaccine</th>\n",
       "    </tr>\n",
       "  </thead>\n",
       "  <tbody>\n",
       "    <tr>\n",
       "      <th>1</th>\n",
       "      <td>1</td>\n",
       "      <td>3.0</td>\n",
       "      <td>2.0</td>\n",
       "      <td>0.0</td>\n",
       "      <td>1.0</td>\n",
       "      <td>0.0</td>\n",
       "      <td>1.0</td>\n",
       "      <td>0.0</td>\n",
       "      <td>1.0</td>\n",
       "      <td>1.0</td>\n",
       "      <td>...</td>\n",
       "      <td>Rent</td>\n",
       "      <td>Employed</td>\n",
       "      <td>region_A</td>\n",
       "      <td>MSA, Not Principle  City</td>\n",
       "      <td>0.0</td>\n",
       "      <td>0.0</td>\n",
       "      <td>1</td>\n",
       "      <td>1</td>\n",
       "      <td>0</td>\n",
       "      <td>1</td>\n",
       "    </tr>\n",
       "    <tr>\n",
       "      <th>7</th>\n",
       "      <td>7</td>\n",
       "      <td>1.0</td>\n",
       "      <td>0.0</td>\n",
       "      <td>0.0</td>\n",
       "      <td>1.0</td>\n",
       "      <td>0.0</td>\n",
       "      <td>1.0</td>\n",
       "      <td>0.0</td>\n",
       "      <td>0.0</td>\n",
       "      <td>1.0</td>\n",
       "      <td>...</td>\n",
       "      <td>Own</td>\n",
       "      <td>Employed</td>\n",
       "      <td>region_A</td>\n",
       "      <td>Non-MSA</td>\n",
       "      <td>2.0</td>\n",
       "      <td>0.0</td>\n",
       "      <td>1</td>\n",
       "      <td>2</td>\n",
       "      <td>1</td>\n",
       "      <td>1</td>\n",
       "    </tr>\n",
       "    <tr>\n",
       "      <th>10</th>\n",
       "      <td>10</td>\n",
       "      <td>2.0</td>\n",
       "      <td>1.0</td>\n",
       "      <td>0.0</td>\n",
       "      <td>1.0</td>\n",
       "      <td>0.0</td>\n",
       "      <td>1.0</td>\n",
       "      <td>1.0</td>\n",
       "      <td>0.0</td>\n",
       "      <td>0.0</td>\n",
       "      <td>...</td>\n",
       "      <td>Rent</td>\n",
       "      <td>Employed</td>\n",
       "      <td>region_B</td>\n",
       "      <td>MSA, Not Principle  City</td>\n",
       "      <td>2.0</td>\n",
       "      <td>0.0</td>\n",
       "      <td>2</td>\n",
       "      <td>3</td>\n",
       "      <td>1</td>\n",
       "      <td>1</td>\n",
       "    </tr>\n",
       "    <tr>\n",
       "      <th>11</th>\n",
       "      <td>11</td>\n",
       "      <td>1.0</td>\n",
       "      <td>2.0</td>\n",
       "      <td>0.0</td>\n",
       "      <td>1.0</td>\n",
       "      <td>0.0</td>\n",
       "      <td>1.0</td>\n",
       "      <td>0.0</td>\n",
       "      <td>0.0</td>\n",
       "      <td>0.0</td>\n",
       "      <td>...</td>\n",
       "      <td>Own</td>\n",
       "      <td>Employed</td>\n",
       "      <td>region_C</td>\n",
       "      <td>Non-MSA</td>\n",
       "      <td>1.0</td>\n",
       "      <td>2.0</td>\n",
       "      <td>2</td>\n",
       "      <td>4</td>\n",
       "      <td>1</td>\n",
       "      <td>1</td>\n",
       "    </tr>\n",
       "    <tr>\n",
       "      <th>15</th>\n",
       "      <td>15</td>\n",
       "      <td>1.0</td>\n",
       "      <td>1.0</td>\n",
       "      <td>0.0</td>\n",
       "      <td>1.0</td>\n",
       "      <td>0.0</td>\n",
       "      <td>0.0</td>\n",
       "      <td>0.0</td>\n",
       "      <td>0.0</td>\n",
       "      <td>0.0</td>\n",
       "      <td>...</td>\n",
       "      <td>Own</td>\n",
       "      <td>Employed</td>\n",
       "      <td>region_B</td>\n",
       "      <td>MSA, Not Principle  City</td>\n",
       "      <td>1.0</td>\n",
       "      <td>3.0</td>\n",
       "      <td>3</td>\n",
       "      <td>5</td>\n",
       "      <td>0</td>\n",
       "      <td>0</td>\n",
       "    </tr>\n",
       "  </tbody>\n",
       "</table>\n",
       "<p>5 rows × 38 columns</p>\n",
       "</div>"
      ],
      "text/plain": [
       "    respondent_id  h1n1_concern  h1n1_knowledge  behavioral_antiviral_meds  \\\n",
       "1               1           3.0             2.0                        0.0   \n",
       "7               7           1.0             0.0                        0.0   \n",
       "10             10           2.0             1.0                        0.0   \n",
       "11             11           1.0             2.0                        0.0   \n",
       "15             15           1.0             1.0                        0.0   \n",
       "\n",
       "    behavioral_avoidance  behavioral_face_mask  behavioral_wash_hands  \\\n",
       "1                    1.0                   0.0                    1.0   \n",
       "7                    1.0                   0.0                    1.0   \n",
       "10                   1.0                   0.0                    1.0   \n",
       "11                   1.0                   0.0                    1.0   \n",
       "15                   1.0                   0.0                    0.0   \n",
       "\n",
       "    behavioral_large_gatherings  behavioral_outside_home  \\\n",
       "1                           0.0                      1.0   \n",
       "7                           0.0                      0.0   \n",
       "10                          1.0                      0.0   \n",
       "11                          0.0                      0.0   \n",
       "15                          0.0                      0.0   \n",
       "\n",
       "    behavioral_touch_face  ...  rent_or_own  employment_status  \\\n",
       "1                     1.0  ...         Rent           Employed   \n",
       "7                     1.0  ...          Own           Employed   \n",
       "10                    0.0  ...         Rent           Employed   \n",
       "11                    0.0  ...          Own           Employed   \n",
       "15                    0.0  ...          Own           Employed   \n",
       "\n",
       "    hhs_geo_region                census_msa  household_adults  \\\n",
       "1         region_A  MSA, Not Principle  City               0.0   \n",
       "7         region_A                   Non-MSA               2.0   \n",
       "10        region_B  MSA, Not Principle  City               2.0   \n",
       "11        region_C                   Non-MSA               1.0   \n",
       "15        region_B  MSA, Not Principle  City               1.0   \n",
       "\n",
       "    household_children  employment_industry  employment_occupation  \\\n",
       "1                  0.0                    1                      1   \n",
       "7                  0.0                    1                      2   \n",
       "10                 0.0                    2                      3   \n",
       "11                 2.0                    2                      4   \n",
       "15                 3.0                    3                      5   \n",
       "\n",
       "    h1n1_vaccine  seasonal_vaccine  \n",
       "1              0                 1  \n",
       "7              1                 1  \n",
       "10             1                 1  \n",
       "11             1                 1  \n",
       "15             0                 0  \n",
       "\n",
       "[5 rows x 38 columns]"
      ]
     },
     "execution_count": 170,
     "metadata": {},
     "output_type": "execute_result"
    }
   ],
   "source": [
    "df.head()"
   ]
  },
  {
   "cell_type": "code",
   "execution_count": 171,
   "metadata": {},
   "outputs": [],
   "source": [
    "# stripping and converting floats to integers\n",
    "float_col = new_df.select_dtypes(include=['float64']) \n",
    "for col in float_col.columns.values:\n",
    "     new_df[col] =new_df[col].astype('int64')"
   ]
  },
  {
   "attachments": {},
   "cell_type": "markdown",
   "metadata": {},
   "source": [
    "Checking the distribution of relevant columns."
   ]
  },
  {
   "attachments": {},
   "cell_type": "markdown",
   "metadata": {},
   "source": [
    "Define a value count function to see the distribution of the relevant columns"
   ]
  },
  {
   "cell_type": "code",
   "execution_count": 172,
   "metadata": {},
   "outputs": [
    {
     "name": "stdout",
     "output_type": "stream",
     "text": [
      "Value counts for column 'h1n1_concern':\n",
      "2    2530\n",
      "1    2347\n",
      "0     859\n",
      "3     701\n",
      "Name: h1n1_concern, dtype: int64\n",
      "\n",
      "Value counts for column 'h1n1_knowledge':\n",
      "1    3503\n",
      "2    2582\n",
      "0     352\n",
      "Name: h1n1_knowledge, dtype: int64\n",
      "\n",
      "Value counts for column 'behavioral_antiviral_meds':\n",
      "0    6083\n",
      "1     354\n",
      "Name: behavioral_antiviral_meds, dtype: int64\n",
      "\n",
      "Value counts for column 'behavioral_avoidance':\n",
      "1    4625\n",
      "0    1812\n",
      "Name: behavioral_avoidance, dtype: int64\n",
      "\n",
      "Value counts for column 'behavioral_face_mask':\n",
      "0    6042\n",
      "1     395\n",
      "Name: behavioral_face_mask, dtype: int64\n",
      "\n",
      "Value counts for column 'behavioral_wash_hands':\n",
      "1    5271\n",
      "0    1166\n",
      "Name: behavioral_wash_hands, dtype: int64\n",
      "\n",
      "Value counts for column 'behavioral_large_gatherings':\n",
      "0    4701\n",
      "1    1736\n",
      "Name: behavioral_large_gatherings, dtype: int64\n",
      "\n",
      "Value counts for column 'behavioral_outside_home':\n",
      "0    4824\n",
      "1    1613\n",
      "Name: behavioral_outside_home, dtype: int64\n",
      "\n",
      "Value counts for column 'behavioral_touch_face':\n",
      "1    4284\n",
      "0    2153\n",
      "Name: behavioral_touch_face, dtype: int64\n",
      "\n",
      "Value counts for column 'doctor_recc_h1n1':\n",
      "0    4942\n",
      "1    1495\n",
      "Name: doctor_recc_h1n1, dtype: int64\n",
      "\n",
      "Value counts for column 'doctor_recc_seasonal':\n",
      "0    4530\n",
      "1    1907\n",
      "Name: doctor_recc_seasonal, dtype: int64\n",
      "\n",
      "Value counts for column 'chronic_med_condition':\n",
      "0    5013\n",
      "1    1424\n",
      "Name: chronic_med_condition, dtype: int64\n",
      "\n",
      "Value counts for column 'child_under_6_months':\n",
      "0    5833\n",
      "1     604\n",
      "Name: child_under_6_months, dtype: int64\n",
      "\n",
      "Value counts for column 'health_worker':\n",
      "0    5287\n",
      "1    1150\n",
      "Name: health_worker, dtype: int64\n",
      "\n",
      "Value counts for column 'health_insurance':\n",
      "1    5699\n",
      "0     738\n",
      "Name: health_insurance, dtype: int64\n",
      "\n",
      "Value counts for column 'opinion_h1n1_vacc_effective':\n",
      "4    3170\n",
      "5    1902\n",
      "3     693\n",
      "2     477\n",
      "1     195\n",
      "Name: opinion_h1n1_vacc_effective, dtype: int64\n",
      "\n",
      "Value counts for column 'opinion_h1n1_risk':\n",
      "2    2534\n",
      "1    2015\n",
      "4    1336\n",
      "5     422\n",
      "3     130\n",
      "Name: opinion_h1n1_risk, dtype: int64\n",
      "\n",
      "Value counts for column 'opinion_h1n1_sick_from_vacc':\n",
      "1    2344\n",
      "2    2298\n",
      "4    1352\n",
      "5     436\n",
      "3       7\n",
      "Name: opinion_h1n1_sick_from_vacc, dtype: int64\n",
      "\n",
      "Value counts for column 'opinion_seas_vacc_effective':\n",
      "4    3100\n",
      "5    2208\n",
      "2     637\n",
      "1     294\n",
      "3     198\n",
      "Name: opinion_seas_vacc_effective, dtype: int64\n",
      "\n",
      "Value counts for column 'opinion_seas_risk':\n",
      "2    2247\n",
      "4    1943\n",
      "1    1475\n",
      "5     697\n",
      "3      75\n",
      "Name: opinion_seas_risk, dtype: int64\n",
      "\n",
      "Value counts for column 'opinion_seas_sick_from_vacc':\n",
      "1    2970\n",
      "2    1912\n",
      "4    1188\n",
      "5     366\n",
      "3       1\n",
      "Name: opinion_seas_sick_from_vacc, dtype: int64\n",
      "\n",
      "Value counts for column 'age_group':\n",
      "45 - 54 Years    1760\n",
      "55 - 64 Years    1490\n",
      "18 - 34 Years    1468\n",
      "35 - 44 Years    1268\n",
      "65+ Years         451\n",
      "Name: age_group, dtype: int64\n",
      "\n",
      "Value counts for column 'education':\n",
      "College Graduate    3129\n",
      "Some College        1783\n",
      "12 Years            1209\n",
      "< 12 Years           316\n",
      "Name: education, dtype: int64\n",
      "\n",
      "Value counts for column 'race':\n",
      "White                5179\n",
      "Black                 456\n",
      "Hispanic              439\n",
      "Other or Multiple     363\n",
      "Name: race, dtype: int64\n",
      "\n",
      "Value counts for column 'sex':\n",
      "Female    3533\n",
      "Male      2904\n",
      "Name: sex, dtype: int64\n",
      "\n",
      "Value counts for column 'income_poverty':\n",
      "<= $75,000, Above Poverty    3369\n",
      "> $75,000                    2643\n",
      "Below Poverty                 425\n",
      "Name: income_poverty, dtype: int64\n",
      "\n",
      "Value counts for column 'marital_status':\n",
      "Married        3758\n",
      "Not Married    2679\n",
      "Name: marital_status, dtype: int64\n",
      "\n",
      "Value counts for column 'rent_or_own':\n",
      "Own     4990\n",
      "Rent    1447\n",
      "Name: rent_or_own, dtype: int64\n",
      "\n",
      "Value counts for column 'employment_status':\n",
      "Employed    6437\n",
      "Name: employment_status, dtype: int64\n",
      "\n",
      "Value counts for column 'hhs_geo_region':\n",
      "region_B    956\n",
      "region_E    777\n",
      "region_C    776\n",
      "region_D    751\n",
      "region_A    706\n",
      "region_H    622\n",
      "region_F    553\n",
      "region_J    530\n",
      "region_I    499\n",
      "region_G    267\n",
      "Name: hhs_geo_region, dtype: int64\n",
      "\n",
      "Value counts for column 'census_msa':\n",
      "MSA, Not Principle  City    2828\n",
      "MSA, Principle City         1944\n",
      "Non-MSA                     1665\n",
      "Name: census_msa, dtype: int64\n",
      "\n",
      "Value counts for column 'household_adults':\n",
      "1    3742\n",
      "0    1626\n",
      "2     755\n",
      "3     314\n",
      "Name: household_adults, dtype: int64\n",
      "\n",
      "Value counts for column 'household_children':\n",
      "0    4133\n",
      "1     960\n",
      "2     858\n",
      "3     486\n",
      "Name: household_children, dtype: int64\n",
      "\n",
      "Value counts for column 'employment_industry':\n",
      "6     1157\n",
      "3      917\n",
      "5      572\n",
      "1      504\n",
      "16     467\n",
      "8      419\n",
      "2      403\n",
      "15     287\n",
      "4      263\n",
      "7      257\n",
      "9      234\n",
      "14     154\n",
      "12     150\n",
      "13     132\n",
      "18     129\n",
      "20     101\n",
      "10      90\n",
      "17      88\n",
      "21      64\n",
      "11      43\n",
      "19       6\n",
      "Name: employment_industry, dtype: int64\n",
      "\n",
      "Value counts for column 'employment_occupation':\n",
      "6     827\n",
      "7     713\n",
      "5     648\n",
      "9     645\n",
      "1     527\n",
      "10    347\n",
      "3     260\n",
      "2     252\n",
      "13    221\n",
      "20    214\n",
      "12    193\n",
      "23    182\n",
      "17    178\n",
      "4     175\n",
      "8     171\n",
      "11    157\n",
      "14    134\n",
      "16    130\n",
      "15    119\n",
      "18    111\n",
      "22    105\n",
      "19     88\n",
      "21     40\n",
      "Name: employment_occupation, dtype: int64\n",
      "\n"
     ]
    }
   ],
   "source": [
    "\n",
    "def get_column_value_counts(new_df, columns):\n",
    "    value_counts = {}\n",
    "    for column in columns:\n",
    "        value_counts[column] = new_df[column].value_counts()\n",
    "    return value_counts\n",
    "\n",
    "columns_to_count = ['h1n1_concern', 'h1n1_knowledge',\n",
    "                    'behavioral_antiviral_meds', 'behavioral_avoidance',\n",
    "                    'behavioral_face_mask', 'behavioral_wash_hands',\n",
    "                    'behavioral_large_gatherings', 'behavioral_outside_home',\n",
    "                    'behavioral_touch_face', 'doctor_recc_h1n1', 'doctor_recc_seasonal',\n",
    "                    'chronic_med_condition', 'child_under_6_months', 'health_worker',\n",
    "                    'health_insurance', 'opinion_h1n1_vacc_effective', 'opinion_h1n1_risk',\n",
    "                    'opinion_h1n1_sick_from_vacc', 'opinion_seas_vacc_effective',\n",
    "                    'opinion_seas_risk', 'opinion_seas_sick_from_vacc', 'age_group',\n",
    "                    'education', 'race', 'sex', 'income_poverty', 'marital_status',\n",
    "                    'rent_or_own', 'employment_status', 'hhs_geo_region', 'census_msa',\n",
    "                    'household_adults', 'household_children', 'employment_industry',\n",
    "                    'employment_occupation']\n",
    "counts = get_column_value_counts(df, columns_to_count)\n",
    "\n",
    "# Print value counts for each column\n",
    "for column, value_count in counts.items():\n",
    "    print(f\"Value counts for column '{column}':\\n{value_count}\\n\")\n",
    "\n"
   ]
  },
  {
   "attachments": {},
   "cell_type": "markdown",
   "metadata": {},
   "source": [
    "Visualisation of the relevant columns against the seasonal vaccine value counts."
   ]
  },
  {
   "cell_type": "code",
   "execution_count": 173,
   "metadata": {},
   "outputs": [
    {
     "data": {
      "image/png": "[encoded data removed]",
      "text/plain": [
       "<Figure size 576x360 with 1 Axes>"
      ]
     },
     "metadata": {
      "needs_background": "light"
     },
     "output_type": "display_data"
    },
    {
     "data": {
      "image/png": "[encoded data removed]",
      "text/plain": [
       "<Figure size 576x360 with 1 Axes>"
      ]
     },
     "metadata": {
      "needs_background": "light"
     },
     "output_type": "display_data"
    },
    {
     "data": {
      "image/png": "[encoded data removed]",
      "text/plain": [
       "<Figure size 576x360 with 1 Axes>"
      ]
     },
     "metadata": {
      "needs_background": "light"
     },
     "output_type": "display_data"
    },
    {
     "data": {
      "image/png": "[encoded data removed]",
      "text/plain": [
       "<Figure size 576x360 with 1 Axes>"
      ]
     },
     "metadata": {
      "needs_background": "light"
     },
     "output_type": "display_data"
    },
    {
     "data": {
      "image/png": "[encoded data removed]",
      "text/plain": [
       "<Figure size 576x360 with 1 Axes>"
      ]
     },
     "metadata": {
      "needs_background": "light"
     },
     "output_type": "display_data"
    },
    {
     "data": {
      "image/png": "[encoded data removed]",
      "text/plain": [
       "<Figure size 576x360 with 1 Axes>"
      ]
     },
     "metadata": {
      "needs_background": "light"
     },
     "output_type": "display_data"
    },
    {
     "data": {
      "image/png": "[encoded data removed]",
      "text/plain": [
       "<Figure size 576x360 with 1 Axes>"
      ]
     },
     "metadata": {
      "needs_background": "light"
     },
     "output_type": "display_data"
    },
    {
     "data": {
      "image/png": "[encoded data removed]",
      "text/plain": [
       "<Figure size 576x360 with 1 Axes>"
      ]
     },
     "metadata": {
      "needs_background": "light"
     },
     "output_type": "display_data"
    },
    {
     "data": {
      "image/png": "[encoded data removed]",
      "text/plain": [
       "<Figure size 576x360 with 1 Axes>"
      ]
     },
     "metadata": {
      "needs_background": "light"
     },
     "output_type": "display_data"
    },
    {
     "data": {
      "image/png": "[encoded data removed]",
      "text/plain": [
       "<Figure size 576x360 with 1 Axes>"
      ]
     },
     "metadata": {
      "needs_background": "light"
     },
     "output_type": "display_data"
    },
    {
     "data": {
      "image/png": "[encoded data removed]",
      "text/plain": [
       "<Figure size 576x360 with 1 Axes>"
      ]
     },
     "metadata": {
      "needs_background": "light"
     },
     "output_type": "display_data"
    },
    {
     "data": {
      "image/png": "[encoded data removed]",
      "text/plain": [
       "<Figure size 576x360 with 1 Axes>"
      ]
     },
     "metadata": {
      "needs_background": "light"
     },
     "output_type": "display_data"
    },
    {
     "data": {
      "image/png": "[encoded data removed]",
      "text/plain": [
       "<Figure size 576x360 with 1 Axes>"
      ]
     },
     "metadata": {
      "needs_background": "light"
     },
     "output_type": "display_data"
    },
    {
     "data": {
      "image/png": "[encoded data removed]",
      "text/plain": [
       "<Figure size 576x360 with 1 Axes>"
      ]
     },
     "metadata": {
      "needs_background": "light"
     },
     "output_type": "display_data"
    },
    {
     "data": {
      "image/png": "[encoded data removed]",
      "text/plain": [
       "<Figure size 576x360 with 1 Axes>"
      ]
     },
     "metadata": {
      "needs_background": "light"
     },
     "output_type": "display_data"
    },
    {
     "data": {
      "image/png": "[encoded data removed]",
      "text/plain": [
       "<Figure size 576x360 with 1 Axes>"
      ]
     },
     "metadata": {
      "needs_background": "light"
     },
     "output_type": "display_data"
    },
    {
     "data": {
      "image/png": "[encoded data removed]",
      "text/plain": [
       "<Figure size 576x360 with 1 Axes>"
      ]
     },
     "metadata": {
      "needs_background": "light"
     },
     "output_type": "display_data"
    },
    {
     "data": {
      "image/png": "[encoded data removed]",
      "text/plain": [
       "<Figure size 576x360 with 1 Axes>"
      ]
     },
     "metadata": {
      "needs_background": "light"
     },
     "output_type": "display_data"
    },
    {
     "data": {
      "image/png": "[encoded data removed]",
      "text/plain": [
       "<Figure size 576x360 with 1 Axes>"
      ]
     },
     "metadata": {
      "needs_background": "light"
     },
     "output_type": "display_data"
    },
    {
     "data": {
      "image/png": "[encoded data removed]",
      "text/plain": [
       "<Figure size 576x360 with 1 Axes>"
      ]
     },
     "metadata": {
      "needs_background": "light"
     },
     "output_type": "display_data"
    },
    {
     "data": {
      "image/png": "[encoded data removed]",
      "text/plain": [
       "<Figure size 576x360 with 1 Axes>"
      ]
     },
     "metadata": {
      "needs_background": "light"
     },
     "output_type": "display_data"
    },
    {
     "data": {
      "image/png": "[encoded data removed]",
      "text/plain": [
       "<Figure size 576x360 with 1 Axes>"
      ]
     },
     "metadata": {
      "needs_background": "light"
     },
     "output_type": "display_data"
    },
    {
     "data": {
      "image/png": "[encoded data removed]",
      "text/plain": [
       "<Figure size 576x360 with 1 Axes>"
      ]
     },
     "metadata": {
      "needs_background": "light"
     },
     "output_type": "display_data"
    },
    {
     "data": {
      "image/png": "[encoded data removed]",
      "text/plain": [
       "<Figure size 576x360 with 1 Axes>"
      ]
     },
     "metadata": {
      "needs_background": "light"
     },
     "output_type": "display_data"
    },
    {
     "data": {
      "image/png": "[encoded data removed]",
      "text/plain": [
       "<Figure size 576x360 with 1 Axes>"
      ]
     },
     "metadata": {
      "needs_background": "light"
     },
     "output_type": "display_data"
    },
    {
     "data": {
      "image/png": "[encoded data removed]",
      "text/plain": [
       "<Figure size 576x360 with 1 Axes>"
      ]
     },
     "metadata": {
      "needs_background": "light"
     },
     "output_type": "display_data"
    },
    {
     "data": {
      "image/png": "[encoded data removed]",
      "text/plain": [
       "<Figure size 576x360 with 1 Axes>"
      ]
     },
     "metadata": {
      "needs_background": "light"
     },
     "output_type": "display_data"
    },
    {
     "data": {
      "image/png": "[encoded data removed]",
      "text/plain": [
       "<Figure size 576x360 with 1 Axes>"
      ]
     },
     "metadata": {
      "needs_background": "light"
     },
     "output_type": "display_data"
    },
    {
     "data": {
      "image/png": "[encoded data removed]",
      "text/plain": [
       "<Figure size 576x360 with 1 Axes>"
      ]
     },
     "metadata": {
      "needs_background": "light"
     },
     "output_type": "display_data"
    },
    {
     "data": {
      "image/png": "[encoded data removed]",
      "text/plain": [
       "<Figure size 576x360 with 1 Axes>"
      ]
     },
     "metadata": {
      "needs_background": "light"
     },
     "output_type": "display_data"
    },
    {
     "data": {
      "image/png": "[encoded data removed]",
      "text/plain": [
       "<Figure size 576x360 with 1 Axes>"
      ]
     },
     "metadata": {
      "needs_background": "light"
     },
     "output_type": "display_data"
    },
    {
     "data": {
      "image/png": "[encoded data removed]",
      "text/plain": [
       "<Figure size 576x360 with 1 Axes>"
      ]
     },
     "metadata": {
      "needs_background": "light"
     },
     "output_type": "display_data"
    },
    {
     "data": {
      "image/png": "[encoded data removed]",
      "text/plain": [
       "<Figure size 576x360 with 1 Axes>"
      ]
     },
     "metadata": {
      "needs_background": "light"
     },
     "output_type": "display_data"
    },
    {
     "data": {
      "image/png": "[encoded data removed]",
      "text/plain": [
       "<Figure size 576x360 with 1 Axes>"
      ]
     },
     "metadata": {
      "needs_background": "light"
     },
     "output_type": "display_data"
    },
    {
     "data": {
      "image/png": "[encoded data removed]",
      "text/plain": [
       "<Figure size 576x360 with 1 Axes>"
      ]
     },
     "metadata": {
      "needs_background": "light"
     },
     "output_type": "display_data"
    }
   ],
   "source": [
    "# Iterate over each column and its value counts\n",
    "for column, value_count in counts.items():\n",
    "    # Create a bar plot\n",
    "    plt.figure(figsize=(8, 5))\n",
    "    plt.bar(value_count.index.astype(str), value_count.values)\n",
    "    plt.xlabel(column)\n",
    "    plt.ylabel('Count')\n",
    "    plt.title(f\"Value Counts for Column '{column}' against Seasonal Vaccine\")\n",
    "    plt.xticks(rotation=45)\n",
    "    plt.show()\n",
    "\n"
   ]
  },
  {
   "attachments": {},
   "cell_type": "markdown",
   "metadata": {},
   "source": [
    "The value counts for most of the above variables' columns are imbalanced, which might affect the model's performance. It is recommended to handle imbalanced classes appropriately, such as using techniques like oversampling, undersampling, or using class weights during model training to mitigate the impact of the imbalance on the model's predictions.So I introduce oversampling by SMOTE(Synthetic Minority Over-sampling Technique) SMOTE works by selecting a minority class sample and generating synthetic samples along the line segments connecting its neighboring minority class samples."
   ]
  },
  {
   "attachments": {},
   "cell_type": "markdown",
   "metadata": {},
   "source": [
    "SPLITTING THE DATA INTO TRAINING AND TESTING SETS AND OVERSAMPLING THE MINORITY CLASS WITH SMOTE."
   ]
  },
  {
   "attachments": {},
   "cell_type": "markdown",
   "metadata": {},
   "source": [
    "Define my relevant variables and target variables for the study."
   ]
  },
  {
   "cell_type": "code",
   "execution_count": 174,
   "metadata": {},
   "outputs": [],
   "source": [
    "relevant_columns = ['h1n1_concern', 'h1n1_knowledge',\n",
    "                    'behavioral_antiviral_meds', 'behavioral_avoidance',\n",
    "                    'behavioral_face_mask', 'behavioral_wash_hands',\n",
    "                    'behavioral_large_gatherings', 'behavioral_outside_home',\n",
    "                    'behavioral_touch_face', 'doctor_recc_h1n1', 'doctor_recc_seasonal',\n",
    "                    'chronic_med_condition', 'child_under_6_months', 'health_worker',\n",
    "                    'health_insurance', 'opinion_h1n1_vacc_effective', 'opinion_h1n1_risk',\n",
    "                    'opinion_h1n1_sick_from_vacc', 'opinion_seas_vacc_effective',\n",
    "                    'opinion_seas_risk', 'opinion_seas_sick_from_vacc', 'age_group',\n",
    "                    'education', 'race', 'sex', 'income_poverty', 'marital_status',\n",
    "                    'rent_or_own', 'employment_status', 'hhs_geo_region', 'census_msa',\n",
    "                    'household_adults', 'household_children', 'employment_industry',\n",
    "                    'employment_occupation']\n",
    "target_variable = 'seasonal_vaccine'"
   ]
  },
  {
   "cell_type": "code",
   "execution_count": 175,
   "metadata": {},
   "outputs": [],
   "source": [
    "# Set up X and y\n",
    "# Extract the relevant_columns  and target variable\n",
    "X = new_df[relevant_columns]\n",
    "y = new_df[target_variable]"
   ]
  },
  {
   "attachments": {},
   "cell_type": "markdown",
   "metadata": {},
   "source": []
  },
  {
   "cell_type": "code",
   "execution_count": 176,
   "metadata": {},
   "outputs": [],
   "source": [
    "\n",
    "# One-hot encode the categorical variables\n",
    "X_cat = X.select_dtypes(include=['object'])\n",
    "for col in X_cat.columns:\n",
    "    one_hot = pd.get_dummies(X[col], prefix=col, drop_first=True)\n",
    "    X = pd.concat([X, one_hot], axis=1)\n",
    "    X.drop(col, axis=1, inplace=True)"
   ]
  },
  {
   "attachments": {},
   "cell_type": "markdown",
   "metadata": {},
   "source": [
    " The identified the relevant features using the chi-squared test,I will use those selected features for modeling my machine learning algorithm."
   ]
  },
  {
   "attachments": {},
   "cell_type": "markdown",
   "metadata": {},
   "source": [
    "A chi-squared test is a statistical test used to determine if there is a significant association between two categorical variables. It is commonly used to analyze the relationship between two variables.The test calculates the difference between the observed frequencies and the expected frequencies under the assumption of independence. If the difference is large enough, it suggests that the variables are not independent and that there is a significant association."
   ]
  },
  {
   "cell_type": "code",
   "execution_count": 177,
   "metadata": {},
   "outputs": [
    {
     "name": "stdout",
     "output_type": "stream",
     "text": [
      "Selected Features:\n",
      "Index(['doctor_recc_seasonal', 'health_worker', 'opinion_h1n1_risk',\n",
      "       'opinion_seas_vacc_effective', 'opinion_seas_risk'],\n",
      "      dtype='object')\n"
     ]
    }
   ],
   "source": [
    "# Perform feature selection using chi-squared test\n",
    "selector = SelectKBest(score_func=chi2, k=5)  # Select the top 5 features\n",
    "X_new = selector.fit_transform(X, y)\n",
    "\n",
    "# Get the selected feature indices\n",
    "selected_feature_indices = selector.get_support(indices=True)\n",
    "\n",
    "# Get the selected feature names\n",
    "selected_features = X.columns[selected_feature_indices]\n",
    "\n",
    "# Print the selected features\n",
    "print(\"Selected Features:\")\n",
    "print(selected_features)\n"
   ]
  },
  {
   "attachments": {},
   "cell_type": "markdown",
   "metadata": {},
   "source": [
    "These five features have been selected as the most relevant or informative ones according to the chi-squared test for feature selection"
   ]
  },
  {
   "cell_type": "code",
   "execution_count": 178,
   "metadata": {},
   "outputs": [],
   "source": [
    "# Get the selected feature indices\n",
    "selected_feature_indices = selector.get_support(indices=True)\n",
    "\n",
    "# Get the selected feature names\n",
    "selected_features = X.columns[selected_feature_indices]"
   ]
  },
  {
   "cell_type": "code",
   "execution_count": 179,
   "metadata": {},
   "outputs": [],
   "source": [
    "# Subset the dataset with selected features\n",
    "X_selected = X[selected_features]"
   ]
  },
  {
   "cell_type": "code",
   "execution_count": 180,
   "metadata": {},
   "outputs": [],
   "source": [
    "# Split the data into training and test sets\n",
    "X_train, X_test, y_train, y_test = train_test_split(X, y, test_size=0.20, random_state=42)\n"
   ]
  },
  {
   "attachments": {},
   "cell_type": "markdown",
   "metadata": {},
   "source": [
    "First using  OneHotEncoder I will replace my categorical_cols with the names of the categorical columns in my dataset and numerical_cols with the names of the numerical columns. This way, I can ensure that all the variables are in numerical format before applying SMOTE."
   ]
  },
  {
   "cell_type": "code",
   "execution_count": 181,
   "metadata": {},
   "outputs": [],
   "source": [
    "# One-hot encode the categorical variables\n",
    "# Selecting columns with 'object' data type\n",
    "X_train_cat = X_train.select_dtypes(include=['object']).columns.tolist()\n",
    "# One-hot encoding the selected columns\n",
    "for col in X_train_cat:\n",
    "    one_hot = pd.get_dummies(X_train[col], prefix=col, drop_first=True)\n",
    "    X_train = pd.concat([X_train, one_hot], axis=1)\n",
    "    X_train.drop(col, axis=1, inplace=True)"
   ]
  },
  {
   "cell_type": "code",
   "execution_count": 182,
   "metadata": {},
   "outputs": [],
   "source": [
    "# Apply SMOTE to oversample the minority class\n",
    "smote = SMOTE(random_state=42)\n",
    "X_train_resampled, y_train_resampled = smote.fit_resample(X_train, y_train)"
   ]
  },
  {
   "cell_type": "code",
   "execution_count": 183,
   "metadata": {},
   "outputs": [
    {
     "data": {
      "text/plain": [
       "0    0.53894\n",
       "1    0.46106\n",
       "Name: seasonal_vaccine, dtype: float64"
      ]
     },
     "execution_count": 183,
     "metadata": {},
     "output_type": "execute_result"
    }
   ],
   "source": [
    "y_train.value_counts(normalize=True)"
   ]
  },
  {
   "cell_type": "code",
   "execution_count": 184,
   "metadata": {},
   "outputs": [
    {
     "data": {
      "text/plain": [
       "0    0.555901\n",
       "1    0.444099\n",
       "Name: seasonal_vaccine, dtype: float64"
      ]
     },
     "execution_count": 184,
     "metadata": {},
     "output_type": "execute_result"
    }
   ],
   "source": [
    "y_test.value_counts(normalize=True)"
   ]
  },
  {
   "attachments": {},
   "cell_type": "markdown",
   "metadata": {},
   "source": [
    "MODELLING."
   ]
  },
  {
   "attachments": {},
   "cell_type": "markdown",
   "metadata": {},
   "source": [
    "Because my target is categorical I will use classification models."
   ]
  },
  {
   "attachments": {},
   "cell_type": "markdown",
   "metadata": {},
   "source": [
    "1.DECISION TREES\n"
   ]
  },
  {
   "attachments": {},
   "cell_type": "markdown",
   "metadata": {},
   "source": [
    "Try the first model into the data set"
   ]
  },
  {
   "cell_type": "code",
   "execution_count": 185,
   "metadata": {},
   "outputs": [],
   "source": [
    "# Create an instance of DecisionTreeClassifier model\n",
    "dt_model = DecisionTreeClassifier()\n",
    "\n",
    "# Fit the model on the training data\n",
    "dt_model.fit(X_train, y_train)\n",
    "\n",
    "# Make predictions on the training data\n",
    "y_train_pred = dt_model.predict(X_train)\n"
   ]
  },
  {
   "attachments": {},
   "cell_type": "markdown",
   "metadata": {},
   "source": [
    "Calculate the accuracy score."
   ]
  },
  {
   "cell_type": "code",
   "execution_count": 186,
   "metadata": {},
   "outputs": [
    {
     "name": "stdout",
     "output_type": "stream",
     "text": [
      "Training Accuracy: 1.0\n"
     ]
    }
   ],
   "source": [
    "# Evaluate the model's accuracy on the training data\n",
    "train_accuracy = accuracy_score(y_train, y_train_pred)\n",
    "# Print the accuracy scores\n",
    "print(f\"Training Accuracy: {train_accuracy}\")"
   ]
  },
  {
   "attachments": {},
   "cell_type": "markdown",
   "metadata": {},
   "source": [
    "The training accuracy of the model is 1.0, which means that the model has achieved a perfect accuracy on the training data. However, a high training accuracy does not guarantee good performance on unseen data. The model may be overfitting to the training data, memorizing the training instances without generalizing well to new, unseen instances.So I will employ hyperparameter tuning."
   ]
  },
  {
   "attachments": {},
   "cell_type": "markdown",
   "metadata": {},
   "source": [
    "Tune my model with the best hyperparameter."
   ]
  },
  {
   "cell_type": "code",
   "execution_count": 187,
   "metadata": {},
   "outputs": [
    {
     "name": "stdout",
     "output_type": "stream",
     "text": [
      "Best Hyperparameters: {'ccp_alpha': 0.0, 'max_depth': 7, 'min_samples_split': 10}\n"
     ]
    }
   ],
   "source": [
    "# Create an instance of DecisionTreeClassifier\n",
    "dt_model = DecisionTreeClassifier()\n",
    "\n",
    "# Define the hyperparameters to tune\n",
    "params = {\n",
    "    'max_depth': [3, 5, 7],\n",
    "    'min_samples_split': [2, 5, 10],\n",
    "    'ccp_alpha': [0.0, 0.1, 0.2]\n",
    "}\n",
    "\n",
    "# Perform grid search cross-validation\n",
    "grid_search = GridSearchCV(dt_model, param_grid=params, cv=5)\n",
    "grid_search.fit(X_train, y_train)\n",
    "\n",
    "# Get the best hyperparameters\n",
    "best_params = grid_search.best_params_\n",
    "print(\"Best Hyperparameters:\", best_params)"
   ]
  },
  {
   "attachments": {},
   "cell_type": "markdown",
   "metadata": {},
   "source": [
    "Test the tuned model on my test data."
   ]
  },
  {
   "cell_type": "code",
   "execution_count": 188,
   "metadata": {},
   "outputs": [],
   "source": [
    "# Create an instance of DecisionTreeClassifier with the best hyperparameters\n",
    "dt_tuned = DecisionTreeClassifier(ccp_alpha=0.0, max_depth=7, min_samples_split=2)"
   ]
  },
  {
   "cell_type": "code",
   "execution_count": 189,
   "metadata": {},
   "outputs": [
    {
     "name": "stdout",
     "output_type": "stream",
     "text": [
      "Cross-Validation Scores: [0.7368932  0.74174757 0.73495146 0.79029126 0.74829932]\n",
      "Average Cross-Validation Score: 0.7504365629747045\n"
     ]
    }
   ],
   "source": [
    "# Perform cross-validation on the training data\n",
    "cv_scores = cross_val_score(dt_tuned, X_train, y_train, cv=5)  # Use 5-fold cross-validation\n",
    "\n",
    "# Calculate and print the average cross-validation score\n",
    "print(\"Cross-Validation Scores:\", cv_scores)\n",
    "avg_cv_score = np.mean(cv_scores)\n",
    "print(\"Average Cross-Validation Score:\", avg_cv_score)"
   ]
  },
  {
   "attachments": {},
   "cell_type": "markdown",
   "metadata": {},
   "source": [
    "Trying out the new model on testing dataset."
   ]
  },
  {
   "cell_type": "code",
   "execution_count": 190,
   "metadata": {},
   "outputs": [
    {
     "name": "stdout",
     "output_type": "stream",
     "text": [
      "Testing Accuracy: 0.7717391304347826\n"
     ]
    }
   ],
   "source": [
    "# Fit the tuned model on the training data\n",
    "dt_tuned.fit(X_train, y_train)\n",
    "\n",
    "# Make predictions on the testing data\n",
    "y_test_pred = dt_tuned.predict(X_test)\n",
    "\n",
    "# Evaluate the model's accuracy on the testing data\n",
    "test_accuracy = accuracy_score(y_test, y_test_pred)\n",
    "\n",
    "# Print the accuracy scores\n",
    "print(f\"Testing Accuracy: {test_accuracy}\")\n",
    "\n"
   ]
  },
  {
   "attachments": {},
   "cell_type": "markdown",
   "metadata": {},
   "source": [
    "Evaluating the model with a confusion matrix"
   ]
  },
  {
   "cell_type": "code",
   "execution_count": 191,
   "metadata": {},
   "outputs": [
    {
     "name": "stdout",
     "output_type": "stream",
     "text": [
      "Confusion Matrix:\n",
      "[[561 139]\n",
      " [155 433]]\n"
     ]
    }
   ],
   "source": [
    "# Make predictions on the testing data\n",
    "y_test_pred = dt_tuned.predict(X_test)\n",
    "\n",
    "# Compute the confusion matrix\n",
    "confusion_mat = confusion_matrix(y_test, y_test_pred)\n",
    "\n",
    "# Transpose the confusion matrix\n",
    "confusion_mat = confusion_mat.T\n",
    "\n",
    "# Display the confusion matrix with actual labels on the x-axis\n",
    "print(\"Confusion Matrix:\")\n",
    "print(confusion_mat)\n"
   ]
  },
  {
   "attachments": {},
   "cell_type": "markdown",
   "metadata": {},
   "source": [
    "Lets plot the confusion matrix."
   ]
  },
  {
   "cell_type": "code",
   "execution_count": 192,
   "metadata": {},
   "outputs": [
    {
     "data": {
      "image/png": "[encoded data removed]",
      "text/plain": [
       "<Figure size 576x432 with 2 Axes>"
      ]
     },
     "metadata": {
      "needs_background": "light"
     },
     "output_type": "display_data"
    }
   ],
   "source": [
    "\n",
    "# Create a heatmap of the confusion matrix\n",
    "plt.figure(figsize=(8, 6))\n",
    "sns.heatmap(confusion_mat, annot=True, fmt=\"d\")\n",
    "\n",
    "plt.title(\"Confusion Matrix\")\n",
    "plt.xlabel(\"Actual Labels\")\n",
    "plt.ylabel(\"Predicted Labels\")\n",
    "plt.show()"
   ]
  },
  {
   "attachments": {},
   "cell_type": "markdown",
   "metadata": {},
   "source": [
    "Calculating specificity."
   ]
  },
  {
   "cell_type": "code",
   "execution_count": 193,
   "metadata": {},
   "outputs": [
    {
     "data": {
      "text/plain": [
       "0.7835195530726257"
      ]
     },
     "execution_count": 193,
     "metadata": {},
     "output_type": "execute_result"
    }
   ],
   "source": [
    "def specificity_score(y_true, y_pred):\n",
    "    tn, fp, fn, tp = confusion_matrix(y_true, y_pred).ravel()\n",
    "    specificity = tn / (tn + fp)\n",
    "    return specificity\n",
    "\n",
    "test_specificity = specificity_score(y_test, y_test_pred)\n",
    "\n",
    "test_specificity"
   ]
  },
  {
   "attachments": {},
   "cell_type": "markdown",
   "metadata": {},
   "source": [
    "Calculating specificity."
   ]
  },
  {
   "attachments": {},
   "cell_type": "markdown",
   "metadata": {},
   "source": [
    "2.RANDOM FOREST CLASSIFIER."
   ]
  },
  {
   "cell_type": "code",
   "execution_count": 194,
   "metadata": {},
   "outputs": [
    {
     "name": "stdout",
     "output_type": "stream",
     "text": [
      "Training Accuracy: 1.0\n"
     ]
    }
   ],
   "source": [
    "# Create an instance of RandomForestClassifier\n",
    "rf_model = RandomForestClassifier()\n",
    "\n",
    "# Fit the model on the training data\n",
    "rf_model.fit(X_train, y_train)\n",
    "\n",
    "# Make predictions on the training data\n",
    "y_train_pred = rf_model.predict(X_train)\n",
    "\n",
    "# Evaluate the model's accuracy and precision on the training data\n",
    "train_accuracy = accuracy_score(y_train, y_train_pred)\n",
    "\n",
    "# Print the accuracy and precision scores\n",
    "print(f\"Training Accuracy: {train_accuracy}\")\n",
    "\n"
   ]
  },
  {
   "cell_type": "code",
   "execution_count": 195,
   "metadata": {},
   "outputs": [
    {
     "name": "stdout",
     "output_type": "stream",
     "text": [
      "Best Hyperparameters: {'max_depth': None, 'max_features': 'log2', 'min_samples_leaf': 1, 'min_samples_split': 10, 'n_estimators': 200}\n"
     ]
    }
   ],
   "source": [
    "# Create an instance of RandomForestClassifier\n",
    "rf_model = RandomForestClassifier()\n",
    "\n",
    "# Define the hyperparameters to tune\n",
    "params = {\n",
    "    'n_estimators': [50, 100, 200],\n",
    "    'max_depth': [None, 5, 10],\n",
    "    'min_samples_split': [2, 5, 10],\n",
    "    'min_samples_leaf': [1, 2, 4],\n",
    "    'max_features': ['sqrt', 'log2']\n",
    "}\n",
    "\n",
    "# Perform grid search cross-validation\n",
    "grid_search = GridSearchCV(rf_model, param_grid=params, cv=5)\n",
    "grid_search.fit(X_train, y_train)\n",
    "\n",
    "# Get the best hyperparameters\n",
    "best_params = grid_search.best_params_\n",
    "print(\"Best Hyperparameters:\", best_params)\n",
    "\n"
   ]
  },
  {
   "cell_type": "code",
   "execution_count": 196,
   "metadata": {},
   "outputs": [],
   "source": [
    "# Create a new instance of RandomForestClassifier with the best hyperparameters\n",
    "rf_tuned = RandomForestClassifier(\n",
    "    max_depth=None,\n",
    "    max_features='sqrt',\n",
    "    min_samples_leaf=4,\n",
    "    min_samples_split=2,\n",
    "    n_estimators=50)"
   ]
  },
  {
   "cell_type": "code",
   "execution_count": 197,
   "metadata": {},
   "outputs": [
    {
     "name": "stdout",
     "output_type": "stream",
     "text": [
      "Cross-Validation Scores: [0.76796117 0.78446602 0.77378641 0.80679612 0.76773567]\n",
      "Average Cross-Validation Score: 0.7801490748865427\n"
     ]
    }
   ],
   "source": [
    "# Perform cross-validation\n",
    "cv_scores = cross_val_score(rf_tuned, X_train, y_train, cv=5)\n",
    "\n",
    "# Print the cross-validation scores\n",
    "print(\"Cross-Validation Scores:\", cv_scores)\n",
    "print(\"Average Cross-Validation Score:\", cv_scores.mean())"
   ]
  },
  {
   "cell_type": "code",
   "execution_count": 198,
   "metadata": {},
   "outputs": [
    {
     "name": "stdout",
     "output_type": "stream",
     "text": [
      "Testing Accuracy: 0.7996894409937888\n"
     ]
    }
   ],
   "source": [
    "# Fit the model on the training data\n",
    "rf_tuned.fit(X_train, y_train)\n",
    "\n",
    "# Make predictions on the testing data\n",
    "y_test_pred = rf_tuned.predict(X_test)\n",
    "\n",
    "# Evaluate the model's accuracy on the testing data\n",
    "test_accuracy = accuracy_score(y_test, y_test_pred)\n",
    "\n",
    "# Print the accuracy score\n",
    "print(f\"Testing Accuracy: {test_accuracy}\")"
   ]
  },
  {
   "attachments": {},
   "cell_type": "markdown",
   "metadata": {},
   "source": [
    "Lets make a confusion matrix"
   ]
  },
  {
   "cell_type": "code",
   "execution_count": 199,
   "metadata": {},
   "outputs": [
    {
     "name": "stdout",
     "output_type": "stream",
     "text": [
      "Confusion Matrix:\n",
      "[[593 135]\n",
      " [123 437]]\n"
     ]
    }
   ],
   "source": [
    "# Make predictions on the testing data\n",
    "y_test_pred = rf_tuned.predict(X_test)\n",
    "\n",
    "# Compute the confusion matrix\n",
    "confusion_mat = confusion_matrix(y_test, y_test_pred)\n",
    "\n",
    "# Transpose the confusion matrix\n",
    "confusion_mat = confusion_mat.T\n",
    "\n",
    "# Display the confusion matrix with actual labels on the x-axis\n",
    "print(\"Confusion Matrix:\")\n",
    "print(confusion_mat)\n",
    "\n"
   ]
  },
  {
   "cell_type": "code",
   "execution_count": 200,
   "metadata": {},
   "outputs": [
    {
     "data": {
      "image/png": "[encoded data removed]",
      "text/plain": [
       "<Figure size 576x432 with 2 Axes>"
      ]
     },
     "metadata": {
      "needs_background": "light"
     },
     "output_type": "display_data"
    }
   ],
   "source": [
    "# Create a heatmap of the confusion matrix\n",
    "plt.figure(figsize=(8, 6))\n",
    "sns.heatmap(confusion_mat, annot=True, fmt=\"d\")\n",
    "\n",
    "plt.title(\"Confusion Matrix\")\n",
    "plt.xlabel(\"Actual Labels\")\n",
    "plt.ylabel(\"Predicted Labels\")\n",
    "plt.show()\n"
   ]
  },
  {
   "attachments": {},
   "cell_type": "markdown",
   "metadata": {},
   "source": [
    "Calculate the Specificity."
   ]
  },
  {
   "cell_type": "code",
   "execution_count": 201,
   "metadata": {},
   "outputs": [
    {
     "data": {
      "text/plain": [
       "0.8282122905027933"
      ]
     },
     "execution_count": 201,
     "metadata": {},
     "output_type": "execute_result"
    }
   ],
   "source": [
    "def specificity_score(y_true, y_pred):\n",
    "    tn, fp, fn, tp = confusion_matrix(y_true, y_pred).ravel()\n",
    "    specificity = tn / (tn + fp)\n",
    "    return specificity\n",
    "\n",
    "test_specificity = specificity_score(y_test, y_test_pred)\n",
    "\n",
    "test_specificity"
   ]
  },
  {
   "attachments": {},
   "cell_type": "markdown",
   "metadata": {},
   "source": [
    "3.K-NEAREST NEIGHBOR MODEL."
   ]
  },
  {
   "cell_type": "code",
   "execution_count": 202,
   "metadata": {},
   "outputs": [],
   "source": [
    "# Create an instance of KNeighborsClassifier\n",
    "knn_model = KNeighborsClassifier()"
   ]
  },
  {
   "cell_type": "code",
   "execution_count": 203,
   "metadata": {},
   "outputs": [
    {
     "name": "stdout",
     "output_type": "stream",
     "text": [
      "Training Accuracy: 0.8201592542241212\n"
     ]
    }
   ],
   "source": [
    "# Fit the model on the training data\n",
    "knn_model.fit(X_train, y_train)\n",
    "\n",
    "# Make predictions on the training data\n",
    "y_train_pred = knn_model.predict(X_train)\n",
    "\n",
    "# Evaluate the model's accuracy and precision on the training data\n",
    "train_accuracy = accuracy_score(y_train, y_train_pred)\n",
    "\n",
    "# Print the accuracy and precision scores\n",
    "print(f\"Training Accuracy: {train_accuracy}\")"
   ]
  },
  {
   "attachments": {},
   "cell_type": "markdown",
   "metadata": {},
   "source": [
    "Try hypaparemeter tuning of the model."
   ]
  },
  {
   "cell_type": "code",
   "execution_count": 204,
   "metadata": {},
   "outputs": [
    {
     "name": "stdout",
     "output_type": "stream",
     "text": [
      "Best Hyperparameters: {'n_neighbors': 9, 'p': 1, 'weights': 'uniform'}\n"
     ]
    }
   ],
   "source": [
    "# Create an instance of KNeighborsClassifier\n",
    "knn_model = KNeighborsClassifier()\n",
    "\n",
    "# Define the hyperparameter grid for tuning\n",
    "param_grid = {\n",
    "    'n_neighbors': [3, 5, 7, 9],  # number of neighbors\n",
    "    'weights': ['uniform', 'distance'],  # weight function used in prediction\n",
    "    'p': [1, 2]  # power parameter for the Minkowski distance metric\n",
    "}\n",
    "\n",
    "# Create a GridSearchCV object\n",
    "grid_search = GridSearchCV(knn_model, param_grid, cv=5, scoring='accuracy')\n",
    "\n",
    "# Fit the GridSearchCV object on the training data\n",
    "grid_search.fit(X_train, y_train)\n",
    "\n",
    "# Get the best hyperparameters and model\n",
    "best_params = grid_search.best_params_\n",
    "best_model = grid_search.best_estimator_\n",
    "\n",
    "# Print the best hyperparameters\n",
    "print(\"Best Hyperparameters:\", best_params)"
   ]
  },
  {
   "cell_type": "code",
   "execution_count": 205,
   "metadata": {},
   "outputs": [],
   "source": [
    "\n",
    "# Create an instance of KNeighborsClassifier model with the best hyperparameters\n",
    "knn_tuned = KNeighborsClassifier(n_neighbors=9, p=1, weights='uniform')"
   ]
  },
  {
   "cell_type": "code",
   "execution_count": 206,
   "metadata": {},
   "outputs": [
    {
     "name": "stdout",
     "output_type": "stream",
     "text": [
      "Cross-Validation Scores: [0.76397516 0.74611801 0.76068376 0.76689977 0.75369075]\n",
      "Mean CV Score: 0.7582734897952289\n",
      "CV Score Standard Deviation: 0.007503174689430174\n"
     ]
    }
   ],
   "source": [
    "# Perform cross-validation\n",
    "cv_scores = cross_val_score(knn_tuned, X, y, cv=5)\n",
    "\n",
    "# Print the cross-validation scores\n",
    "print(\"Cross-Validation Scores:\", cv_scores)\n",
    "print(\"Mean CV Score:\", cv_scores.mean())\n",
    "print(\"CV Score Standard Deviation:\", cv_scores.std())"
   ]
  },
  {
   "cell_type": "code",
   "execution_count": 207,
   "metadata": {},
   "outputs": [
    {
     "name": "stdout",
     "output_type": "stream",
     "text": [
      "Testing Accuracy: 0.7740683229813664\n"
     ]
    }
   ],
   "source": [
    "\n",
    "# Fit the best model on the training data\n",
    "knn_tuned.fit(X_train, y_train)\n",
    "\n",
    "# Make predictions on the testing data\n",
    "y_test_pred = knn_tuned.predict(X_test)\n",
    "\n",
    "# Evaluate the model's accuracy and precision on the testing data\n",
    "test_accuracy = accuracy_score(y_test, y_test_pred)\n",
    "\n",
    "\n",
    "# Print the evaluation metrics\n",
    "print(\"Testing Accuracy:\", test_accuracy)\n"
   ]
  },
  {
   "attachments": {},
   "cell_type": "markdown",
   "metadata": {},
   "source": [
    "Build a confusion matrix for the results of the test data for more insight."
   ]
  },
  {
   "cell_type": "code",
   "execution_count": 208,
   "metadata": {},
   "outputs": [
    {
     "name": "stdout",
     "output_type": "stream",
     "text": [
      "Confusion Matrix:\n",
      "[[584 166]\n",
      " [132 406]]\n"
     ]
    }
   ],
   "source": [
    "# Fit the model on the training data\n",
    "knn_model.fit(X_train, y_train)\n",
    "# Make predictions on the test data\n",
    "y_test_pred = knn_model.predict(X_test)\n",
    "\n",
    "# Generate the confusion matrix\n",
    "cm = confusion_matrix(y_test, y_test_pred)\n",
    "\n",
    "# Transpose the confusion matrix\n",
    "cm = cm.T\n",
    "\n",
    "# Print the confusion matrix\n",
    "print(\"Confusion Matrix:\")\n",
    "print(cm)\n"
   ]
  },
  {
   "cell_type": "code",
   "execution_count": 209,
   "metadata": {},
   "outputs": [
    {
     "data": {
      "image/png": "[encoded data removed]",
      "text/plain": [
       "<Figure size 576x432 with 2 Axes>"
      ]
     },
     "metadata": {
      "needs_background": "light"
     },
     "output_type": "display_data"
    }
   ],
   "source": [
    "# Create a heatmap of the confusion matrix\n",
    "plt.figure(figsize=(8, 6))\n",
    "sns.heatmap(cm, annot=True, fmt=\"d\")\n",
    "\n",
    "plt.title(\"Confusion Matrix\")\n",
    "plt.xlabel(\"Actual Labels\")\n",
    "plt.ylabel(\"Predicted Labels\")\n",
    "plt.show()"
   ]
  },
  {
   "attachments": {},
   "cell_type": "markdown",
   "metadata": {},
   "source": [
    "Calculate specificity."
   ]
  },
  {
   "cell_type": "code",
   "execution_count": 210,
   "metadata": {},
   "outputs": [
    {
     "data": {
      "text/plain": [
       "0.8156424581005587"
      ]
     },
     "execution_count": 210,
     "metadata": {},
     "output_type": "execute_result"
    }
   ],
   "source": [
    "def specificity_score(y_true, y_pred):\n",
    "    tn, fp, fn, tp = confusion_matrix(y_true, y_pred).ravel()\n",
    "    specificity = tn / (tn + fp)\n",
    "    return specificity\n",
    "\n",
    "test_specificity = specificity_score(y_test, y_test_pred)\n",
    "\n",
    "test_specificity"
   ]
  },
  {
   "attachments": {},
   "cell_type": "markdown",
   "metadata": {},
   "source": [
    "4.GRADIENT BOOSTING."
   ]
  },
  {
   "cell_type": "code",
   "execution_count": 211,
   "metadata": {},
   "outputs": [],
   "source": [
    "# Create a Gradient Boosting Classifier object\n",
    "gb_model = GradientBoostingClassifier()"
   ]
  },
  {
   "cell_type": "code",
   "execution_count": 212,
   "metadata": {},
   "outputs": [
    {
     "name": "stdout",
     "output_type": "stream",
     "text": [
      "Training Accuracy: 0.821712953971645\n"
     ]
    }
   ],
   "source": [
    "# Fit the model on the training data\n",
    "gb_model.fit(X_train, y_train)\n",
    "\n",
    "# Make predictions on the training data\n",
    "y_train_pred = gb_model.predict(X_train)\n",
    "\n",
    "# Evaluate the model's accuracy on the training data\n",
    "train_accuracy = accuracy_score(y_train, y_train_pred)\n",
    "\n",
    "# Print the accuracy score\n",
    "print(f\"Training Accuracy: {train_accuracy}\")"
   ]
  },
  {
   "cell_type": "code",
   "execution_count": 213,
   "metadata": {},
   "outputs": [
    {
     "name": "stdout",
     "output_type": "stream",
     "text": [
      "Best Parameters: {'learning_rate': 0.05, 'max_depth': 3, 'n_estimators': 200}\n"
     ]
    }
   ],
   "source": [
    "# Define the hyperparameter grid\n",
    "param_grid = {\n",
    "    'n_estimators': [100, 200, 300],\n",
    "    'learning_rate': [0.1, 0.05, 0.01],\n",
    "    'max_depth': [3, 4, 5]\n",
    "}\n",
    "\n",
    "# Perform grid search cross-validation\n",
    "grid_search = GridSearchCV(gb_model, param_grid, cv=5)\n",
    "grid_search.fit(X_train, y_train)\n",
    "\n",
    "# Get the best model\n",
    "best_model = grid_search.best_estimator_\n",
    "\n",
    "# Fit the best model on the training data\n",
    "best_model.fit(X_train, y_train)\n",
    "\n",
    "# Print the best parameters\n",
    "print(\"Best Parameters:\", grid_search.best_params_)\n"
   ]
  },
  {
   "cell_type": "code",
   "execution_count": 214,
   "metadata": {},
   "outputs": [],
   "source": [
    "# Create an instance of GradientBoostingClassifier with the best hyperparameters\n",
    "gb_model = GradientBoostingClassifier(learning_rate=0.05, max_depth=3, n_estimators=200)"
   ]
  },
  {
   "cell_type": "code",
   "execution_count": 215,
   "metadata": {},
   "outputs": [
    {
     "name": "stdout",
     "output_type": "stream",
     "text": [
      "Cross-Validation Scores: [0.79320388 0.79514563 0.78252427 0.82038835 0.78911565]\n",
      "Average Cross-Validation Score: 0.7960755564361667\n"
     ]
    }
   ],
   "source": [
    "# Perform cross-validation\n",
    "cv_scores = cross_val_score(gb_model, X_train, y_train, cv=5)\n",
    "\n",
    "# Print the cross-validation scores\n",
    "print(\"Cross-Validation Scores:\", cv_scores)\n",
    "print(\"Average Cross-Validation Score:\", cv_scores.mean())"
   ]
  },
  {
   "cell_type": "code",
   "execution_count": 216,
   "metadata": {},
   "outputs": [
    {
     "name": "stdout",
     "output_type": "stream",
     "text": [
      "Testing Accuracy: 0.8027950310559007\n"
     ]
    }
   ],
   "source": [
    "# Make predictions on the testing data\n",
    "y_test_pred = best_model.predict(X_test)\n",
    "\n",
    "# Evaluate the model's accuracy on the testing data\n",
    "test_accuracy = accuracy_score(y_test, y_test_pred)\n",
    "\n",
    "print(f\"Testing Accuracy: {test_accuracy}\")"
   ]
  },
  {
   "attachments": {},
   "cell_type": "markdown",
   "metadata": {},
   "source": [
    "The specificity of 0.84 indicates that the Random Forest Classifier is performing well in correctly identifying true negative cases.Which is an important metric in the study.Having a high specificity means that the model has a low false positive rate, as it is effectively identifying the majority of actual negative cases as negative.\n",
    "\n"
   ]
  },
  {
   "attachments": {},
   "cell_type": "markdown",
   "metadata": {},
   "source": [
    "Work out the AUC AUC values to observe  better model performance in distinguishing between positive and negative instances.\n",
    "\n",
    "\n",
    "\n",
    "\n"
   ]
  },
  {
   "cell_type": "code",
   "execution_count": 217,
   "metadata": {},
   "outputs": [
    {
     "name": "stdout",
     "output_type": "stream",
     "text": [
      "AUC: 0.8757325077157478\n"
     ]
    }
   ],
   "source": [
    "# Fit the model on the training data\n",
    "rf_tuned.fit(X_train, y_train)\n",
    "# Make predictions on the test data\n",
    "y_pred = rf_tuned.predict_proba(X_test)[:, 1] \n",
    "# Calculate the false positive rate, true positive rate, and thresholds\n",
    "fpr, tpr, thresholds = roc_curve(y_test, y_pred)\n",
    "\n",
    "# Calculate the AUC\n",
    "auc = roc_auc_score(y_test, y_pred)\n",
    "\n",
    "print(f\"AUC: {auc}\")"
   ]
  },
  {
   "attachments": {},
   "cell_type": "markdown",
   "metadata": {},
   "source": [
    "Visualisation of the ROC curve."
   ]
  },
  {
   "cell_type": "code",
   "execution_count": 218,
   "metadata": {},
   "outputs": [
    {
     "data": {
      "image/png": "[encoded data removed]",
      "text/plain": [
       "<Figure size 576x432 with 1 Axes>"
      ]
     },
     "metadata": {
      "needs_background": "light"
     },
     "output_type": "display_data"
    }
   ],
   "source": [
    "\n",
    "# Plot the ROC curve\n",
    "plt.figure(figsize=(8, 6))\n",
    "plt.plot(fpr, tpr, label=f\"AUC = {auc:.2f}\")\n",
    "plt.plot([0, 1], [0, 1], \"k--\")\n",
    "plt.xlabel(\"False Positive Rate\")\n",
    "plt.ylabel(\"True Positive Rate\")\n",
    "plt.title(\"Receiver Operating Characteristic (ROC) Curve\")\n",
    "plt.legend(loc=\"lower right\")\n",
    "plt.grid(True)\n",
    "plt.show()"
   ]
  },
  {
   "attachments": {},
   "cell_type": "markdown",
   "metadata": {},
   "source": [
    "Evaluates the relationship of each feature in predicting the target variable"
   ]
  },
  {
   "cell_type": "code",
   "execution_count": 219,
   "metadata": {},
   "outputs": [
    {
     "name": "stdout",
     "output_type": "stream",
     "text": [
      "opinion_seas_risk: 0.17753726709542836\n",
      "opinion_seas_vacc_effective: 0.13207284856199908\n",
      "doctor_recc_seasonal: 0.0905732046768086\n",
      "opinion_h1n1_risk: 0.06285573620811742\n",
      "opinion_h1n1_vacc_effective: 0.03512269287237088\n"
     ]
    }
   ],
   "source": [
    "# Create a new instance of RandomForestClassifier with the best hyperparameters\n",
    "rf_tuned = RandomForestClassifier(\n",
    "    n_estimators=200,\n",
    "    max_depth=None,\n",
    "    min_samples_split=5,\n",
    "    min_samples_leaf=4,\n",
    "    max_features='log2'\n",
    ")\n",
    "\n",
    "# Fit the model on the training data\n",
    "rf_tuned.fit(X_train, y_train)\n",
    "\n",
    "# Get the feature importance scores\n",
    "importance_scores = rf_tuned.feature_importances_\n",
    "\n",
    "# Create a dictionary with feature names and their importance scores\n",
    "feature_importance_dict = dict(zip(X.columns, importance_scores))\n",
    "\n",
    "# Sort the feature importance dictionary by value in descending order\n",
    "sorted_feature_importance = sorted(feature_importance_dict.items(), key=lambda x: x[1], reverse=True)\n",
    "\n",
    "# Extract the top five features and their importance scores\n",
    "top_features = [feature[0] for feature in sorted_feature_importance[:5]]\n",
    "top_importances = [feature[1] for feature in sorted_feature_importance[:5]]\n",
    "\n",
    "# Display the top ten feature importance in descending order\n",
    "for feature, importance in sorted_feature_importance[:5]:\n",
    "    print(f\"{feature}: {importance}\")\n",
    "\n",
    "\n"
   ]
  },
  {
   "attachments": {},
   "cell_type": "markdown",
   "metadata": {},
   "source": [
    "EVALUATION"
   ]
  },
  {
   "attachments": {},
   "cell_type": "markdown",
   "metadata": {},
   "source": [
    "\n",
    "\n",
    "The ML models developed for predicting whether someone did not receive the seasonal flu vaccine demonstrated moderate performance with an overall accuracy of approximately 78%. This indicates that the models were able to correctly identify a significant proportion of individuals who did not receive the vaccine. The specificity value of 0.84 further emphasizes the model's ability to accurately identify true negative cases, reducing the false positive rate.\n",
    "\n",
    "\n",
    "However, there are several limitations that need to be considered. Firstly, the study relied on data from a single year, which may not capture the full variability and patterns of vaccine uptake across different years. This limits the generalizability of the models and their applicability to different time periods. Additionally, the imbalance in the data used for modeling could have impacted the accuracy of the predictions."
   ]
  },
  {
   "attachments": {},
   "cell_type": "markdown",
   "metadata": {},
   "source": [
    "CONCLUSION"
   ]
  },
  {
   "attachments": {},
   "cell_type": "markdown",
   "metadata": {},
   "source": [
    "The ML models developed for predicting vaccine non-uptake showed promising results, with a moderate accuracy, correctly identifying a substantial number of individuals who did not receive the seasonal flu vaccine. The models also highlighted several features that significantly influenced the likelihood of not receiving the vaccine.\n",
    "\n",
    "The feature 'opinion_seas_risk' indicates individuals' perception of the risk associated with the seasonal flu, and 'opinion_seas_vacc_effective' reflects their belief in the effectiveness of the vaccine. These features suggest that individuals who perceive a higher risk and have a lower belief in the vaccine's effectiveness are more likely to forego vaccination.\n",
    "\n",
    "Another influential feature, 'doctor_recc_seasonal', represents whether individuals received a doctor's recommendation for the seasonal flu vaccine. This finding underscores the importance of healthcare providers in promoting vaccination and suggests that individuals who did not receive a doctor's recommendation were less likely to receive the vaccine.\n",
    "\n",
    "Additionally, 'opinion_h1n1_risk' captures individuals' perception of the risk associated with the H1N1 virus, while 'opinion_h1n1_vacc_effective' reflects their belief in the effectiveness of the H1N1 vaccine. These features suggest that individuals who perceive a higher risk and have a lower belief in the vaccine's effectiveness for H1N1 are also more likely to forgo vaccination.\n",
    "\n",
    "These findings provide valuable insights into the factors influencing vaccine non-uptake and can inform targeted interventions and communication strategies to increase vaccine uptake rates. By addressing individuals' risk perceptions, beliefs in vaccine effectiveness, and enhancing doctor's recommendations, public health efforts can be tailored to overcome barriers and improve vaccination rates. Further refinement and validation of the ML models are necessary to enhance their accuracy and applicability in real-world settings.\n"
   ]
  }
 ],
 "metadata": {
  "kernelspec": {
   "display_name": "learn-env",
   "language": "python",
   "name": "python3"
  },
  "language_info": {
   "codemirror_mode": {
    "name": "ipython",
    "version": 3
   },
   "file_extension": ".py",
   "mimetype": "text/x-python",
   "name": "python",
   "nbconvert_exporter": "python",
   "pygments_lexer": "ipython3",
   "version": "3.8.5"
  },
  "orig_nbformat": 4
 },
 "nbformat": 4,
 "nbformat_minor": 2
}
